{
 "cells": [
  {
   "attachments": {},
   "cell_type": "markdown",
   "metadata": {},
   "source": [
    "##### Quantum Data Science 2023/2024\n",
    "## Lecture 6 - Encoding classical data into quantum circuits"
   ]
  },
  {
   "cell_type": "markdown",
   "metadata": {},
   "source": [
    "## Contents\n",
    "\n",
    "1. [Important Functions](#important)\n",
    "2. [Basis Encoding](#basis_encoding)\n",
    "3. [Amplitude Encoding](#amplitude_encoding)\n",
    "4. [Angle Encoding](#angle_encoding)\n",
    "5. [IQP Encoding](#iqp_encoding)    "
   ]
  },
  {
   "cell_type": "markdown",
   "metadata": {},
   "source": [
    "### 1. Important functions and libraries <a id=\"important\"></a>\n",
    "\n",
    "###### again"
   ]
  },
  {
   "cell_type": "code",
   "execution_count": null,
   "metadata": {},
   "outputs": [],
   "source": [
    "from qiskit import *\n",
    "from qiskit.primitives import Sampler,Estimator\n",
    "import numpy as np\n",
    "\n",
    "def execute_circuit(qc, shots=1024, seed=None, binary=False , primitive=\"sampler\", observable=None, reverse=False):\n",
    "\n",
    "    #if reverse:\n",
    "    #    qc=qc.reverse_bits()\n",
    "    \n",
    "    if primitive == \"estimator\":\n",
    "        options = {\"shots\": shots, \"seed\": seed}\n",
    "        estimator = Estimator(options=options)\n",
    "    \n",
    "        job = estimator.run(qc, observable)\n",
    "        result = job.result()  \n",
    "        \n",
    "        return result\n",
    "    \n",
    "    elif primitive == \"sampler\":\n",
    "        options = {\"shots\": shots, \"seed\": seed}\n",
    "        sampler = Sampler(options=options)\n",
    "    \n",
    "        job = sampler.run(qc)\n",
    "        result = job.result()  \n",
    "        \n",
    "        probability_dictionary = result.quasi_dists[0]\n",
    "\n",
    "        if binary:\n",
    "            \n",
    "            probability_dictionary = probability_dictionary.binary_probabilities()\n",
    "\n",
    "            if reverse:\n",
    "                return {key[::-1]: value for key, value in probability_dictionary.items()}\n",
    "\n",
    "            else:\n",
    "                return probability_dictionary\n",
    "        else:\n",
    "            return probability_dictionary\n",
    "    "
   ]
  },
  {
   "cell_type": "markdown",
   "metadata": {},
   "source": [
    "### 2. Basis Encoding <a id=\"basis_encoding\"></a>"
   ]
  },
  {
   "cell_type": "markdown",
   "metadata": {},
   "source": [
    "Basis encoding associates a classical $n$-bit string with a computational basis state of a $n$-qubit system. For instance if we have the binary string $b = (b_1 b_2 \\dots b_n)$ where $b_i \\in \\{0,1\\}$ the mapping to a quantum state is:\n",
    "\n",
    "$$ b = (b_1 b_2 \\dots b_n) \\mapsto |b\\rangle = | b_1 b_2 \\dots b_n \\rangle $$ \n",
    "\n",
    "Specifically, if we have a binary dataset $D_{b} = \\{x^1 , x^2, \\dots , x^M \\} $ where $M$ is the total number of examples in the dataset and $x^i \\in \\{0,1\\}^n$. We can create the superposition of all examples in the dataset, represented as:\n",
    "\n",
    "$$ |D_b\\rangle = \\frac{1}{\\sqrt{M}} \\sum_{i=0}^{M-1} |x^i\\rangle$$ \n",
    "\n",
    "which can be represented in a quantum circuit by applying $n$ Hadamard gates, creating the uniform superposition state"
   ]
  },
  {
   "cell_type": "code",
   "execution_count": null,
   "metadata": {},
   "outputs": [],
   "source": [
    "qc = QuantumCircuit(4)\n",
    "qc.h(range(4))\n",
    "qc.draw(output = \"mpl\")"
   ]
  },
  {
   "cell_type": "markdown",
   "metadata": {},
   "source": [
    "However, if the dataset contains repeated elements this circuit will not work. For instance, the dataset\n",
    "$$ D_b = \\{ 0111, 0101, 0111\\}$$ \n",
    "\n",
    "is represented by the quantum state:\n",
    "\n",
    "$$ |D_b\\rangle = \\frac{1}{\\sqrt{3}}|0101\\rangle + \\frac{2}{\\sqrt{3}}|0111\\rangle$$\n",
    "\n",
    "\n",
    "Now, notice that the dataset usually is an arbitrary *real* dataset, and not *binary*. Thus, for real datapoints $x_i$, to encode the dataset into the quantum system, you need to decide the number of qubits $n$ for your level of precision.\n",
    "\n",
    "Furthermore, in the context of machine learning remember that each datapoint is composed by $N$ features: \n",
    "\n",
    "$$ x^i = \\{x^i_0, \\dots, x^i_{N-1}\\}$$\n",
    "\n",
    "If you want to encode the dataset in superposition , it will help to create the quantum datapoint $|x_i\\rangle$ conditioned on the state of an auxiliary register $|i\\rangle$ as: \n",
    "\n",
    "\\begin{equation}\n",
    "    \\frac{1}{\\sqrt{M}} \\sum_{i=1}^M |i\\rangle |0\\rangle^n \\mapsto \\frac{1}{\\sqrt{M}} \\sum_{i=1}^M |i\\rangle |x_i\\rangle\n",
    "\\end{equation}"
   ]
  },
  {
   "cell_type": "markdown",
   "metadata": {},
   "source": [
    "<span style=\"color: red;\">EXERCISE 3.1</span> - Create the Unitary $U$ that creates the superposition an in Equation (1) for the dataset $x = \\{x_1, x_2 \\} = \\{(1,3) , (2,3)\\}$"
   ]
  },
  {
   "cell_type": "markdown",
   "metadata": {},
   "source": [
    "Remember how to create an arbitrary controlled gate in qiskit: \n",
    "\n",
    "<p align=\"center\">\n",
    "  <img width=\"400\" height=\"400\" src=\"images/ctrl_gate.png\">\n",
    "</p>\n"
   ]
  },
  {
   "cell_type": "code",
   "execution_count": null,
   "metadata": {},
   "outputs": [],
   "source": [
    "def basis_encoding(dataset):\n",
    "\n",
    "    ctrl_qubits = int(np.ceil(np.log2(dataset[1][0])))\n",
    " \n",
    "    features = []\n",
    " \n",
    "    for point in dataset:\n",
    "        l = len(np.binary_repr(max(point)))\n",
    "        feature = ''\n",
    "        for x in point:\n",
    "            x = np.binary_repr(x)\n",
    "            while len(x) < l:\n",
    "                x = '0' + x\n",
    "            feature += x\n",
    "        features.append(feature)\n",
    "\n",
    "    feature_qubits = max(len(x) for x in features)\n",
    "\n",
    "    #quantum circuit\n",
    "    ctrl = QuantumRegister(ctrl_qubits, \"ctrl\")\n",
    "    features = QuantumRegister(feature_qubits, \"features\")\n",
    "    qc = QuantumCircuit(ctrl,features)\n",
    "\n",
    "    qc.h(ctrl)\n",
    "    \n",
    "    #create the controlled gate iteratively for each datapoint\n",
    "\n",
    "    for ind,point in enumerate(dataset):\n",
    "        aux_qc = QuantumCircuit(feature_qubits)\n",
    "        l = len(np.binary_repr(max(point)))\n",
    "\n",
    "        feature = ''\n",
    "        for x in point:\n",
    "            x = np.binary_repr(x)\n",
    "            while len(x) < l:\n",
    "                x = '0' + x\n",
    "            feature += x\n",
    "\n",
    "        while len(feature) < feature_qubits:\n",
    "            feature += '0'\n",
    "\n",
    "        for qubit in range(feature_qubits):\n",
    "            if int(feature[qubit]):\n",
    "                aux_qc.x(qubit)\n",
    "\n",
    "        aux_qc = aux_qc.to_gate().control(ctrl_qubits,ctrl_state=np.binary_repr(ind))\n",
    "        qc.append(aux_qc,[i for i in ctrl] + [i for i in features])\n",
    "\n",
    "\n",
    "    return qc"
   ]
  },
  {
   "cell_type": "code",
   "execution_count": null,
   "metadata": {},
   "outputs": [],
   "source": [
    "qc = basis_encoding(np.array([[1,3],[2,3]]))\n",
    "qc.measure_all()\n",
    "\n",
    "qc.draw(output=\"mpl\")"
   ]
  },
  {
   "cell_type": "code",
   "execution_count": null,
   "metadata": {},
   "outputs": [],
   "source": [
    "probs = execute_circuit(qc, shots=1024, seed=None, primitive=\"sampler\", binary=True, reverse=True)\n",
    "print(probs)"
   ]
  },
  {
   "cell_type": "markdown",
   "metadata": {},
   "source": [
    "### 3. Amplitude Encoding <a id=\"amplitude_encoding\"></a>"
   ]
  },
  {
   "cell_type": "markdown",
   "metadata": {},
   "source": [
    "Amplitude encoding encodes data into the amplitudes of a quantum state. Suppose we have a datapoint with $N$ features $x=(x_0, x_1, \\dots , x_{N-1})$. The amplitude encoded quantum state will be a  $\\lceil log N \\rceil$ qubit state in which each basis state will have an amplitude corresponding to the *normalized* feature $\\hat{x_i}$ as:\n",
    "\n",
    "$$ |x\\rangle = \\sum_{i=1}^{N} \\hat{x_i} |i\\rangle$$\n",
    "\n",
    "such that the normalization is:  \n",
    "\n",
    "$$ \\hat{x_i} = \\sqrt{\\frac{x_i}{\\sum_{i=1}^{N} x_i}}$$\n",
    "\n",
    "i.e. $\\sum_{i=1}^{N} |\\hat{x_i}|^2 = 1$\n"
   ]
  },
  {
   "cell_type": "markdown",
   "metadata": {},
   "source": [
    "<span style=\"color: red;\">EXERCISE 4.1</span> - For simplicity, let's work the *example 4.1* of the book *Machine Learning with quantum computers*. The goal is instead of encoding a datapoint , encoding a probability distribution over the basis states. Encode the following quantum state: \n",
    "\n",
    "$$ |\\psi\\rangle = \\sqrt{0.2}|000\\rangle +  \\sqrt{0.5}|010\\rangle +  \\sqrt{0.2}|110\\rangle +  \\sqrt{0.1}|111\\rangle $$\n",
    "\n",
    "Use the initialize function"
   ]
  },
  {
   "cell_type": "code",
   "execution_count": null,
   "metadata": {},
   "outputs": [],
   "source": [
    "from qiskit.circuit.library import StatePreparation\n",
    "\n",
    "a = np.array([0.2,0.0,0.5,0,0,0,0.2,0.1])\n",
    "a = np.sqrt(a)\n",
    "\n",
    "n = 3\n",
    "ctrl = QuantumRegister(1,'ctrl')\n",
    "qr = QuantumRegister(n,'qr')\n",
    "qc = QuantumCircuit(ctrl,qr)\n",
    "\n",
    "state_preparation = StatePreparation(a)\n",
    "qc.append(state_preparation,qr)\n",
    "\n",
    "\n",
    "\n",
    "qc.draw(output='mpl')"
   ]
  },
  {
   "cell_type": "markdown",
   "metadata": {},
   "source": [
    "Now, remember that for a dataset $D$ with $M$ datapoints with $N$ features each, amplitude encoding needs an extra $\\lceil log M \\rceil$ qubit state for representing the superposition of the entire dataset. The generalized quantum amplitude encoded state is represented as:\n",
    "\n",
    "$$ |D\\rangle = \\frac{1}{\\sqrt{M}} \\sum_{j=1}^{M} \\sum_{i=1}^{N} \\hat{x_i} |j\\rangle |i\\rangle$$ \n",
    "\n",
    "Thus, this encoding strategy needs at most $\\lceil log NM \\rceil$ qubits.\n",
    "\n",
    "\n",
    "Repeat the exercise but now for the dataset $D = \\{x^1, x^2\\} = \\{ (0.2, 2.1, 1.2, 5.7), (0.1, 1.1, 1.4, 6.8)\\}$"
   ]
  },
  {
   "attachments": {},
   "cell_type": "markdown",
   "metadata": {},
   "source": [
    "\n",
    "<p align=\"center\">\n",
    "  <img width=\"600\" height=\"500\" src=\"images/resets.jpg\">\n",
    "</p>\n",
    "\n",
    "\n",
    "##### We cannot do a control reset , because reset is not a unitary and cannot also be inverted!\n",
    "\n",
    "\n",
    "USE THE StatePreparation function instead\n",
    "\n",
    "import:\n",
    "\n",
    "```python\n",
    "\n",
    "from qiskit.circuit.library import StatePreparation"
   ]
  },
  {
   "cell_type": "code",
   "execution_count": null,
   "metadata": {},
   "outputs": [],
   "source": []
  },
  {
   "cell_type": "markdown",
   "metadata": {},
   "source": [
    "### 4. Angle Encoding <a id=\"angle_encoding\"></a>\n",
    "\n",
    "In *Angle Encoding* we encode each feature of a single datapoint in a single qubit, using simple *Pauli* rotation gates. For a point with $N$ features, $x = \\{x_0, \\dots, x_{N-1} \\}$, angle encoding needs $N$ qubits and encode each feature as: \n",
    "\n",
    "$$ |x\\rangle = \\bigotimes_{i=0}^{N-1} e^{i x_i \\sigma}|0\\rangle$$\n",
    "\n",
    "where $\\sigma \\in \\{\\sigma_x, \\sigma_y, \\sigma_z\\}$ is the complete Pauli gate set.\n",
    "\n",
    "For $\\sigma = \\sigma_y$ the encoding becomes:\n",
    "\n",
    "$$ |x\\rangle = \\bigotimes_{i=0}^{N-1} cos(x_i)|0\\rangle + sin(x_i) |1\\rangle$$\n",
    "\n",
    "Notice that this is a periodic encoding strategy. This means that we need to be sure that each feature is *normalized* in the range $[-\\pi, \\pi]$."
   ]
  },
  {
   "attachments": {},
   "cell_type": "markdown",
   "metadata": {},
   "source": [
    "<span style=\"color: red;\">EXERCISE 5.1</span> - Create the angle encoded quantum state for the *single* datapoint $x = (2,3,1,11,23)$, for $\\sigma = \\sigma_y$.\n",
    "\n",
    "There are several normalization strategies, the simplest one to normalize each feature in the range $[-\\pi , \\pi]$ is:\n",
    "\n",
    "$$\\hat{x_i} = \\frac{x_i}{max_{i} |x_i|} * \\pi$$\n",
    "\n",
    "$L_{\\infty}$ normalizes each feature by the maximum absolute feature present in the datapoint i.e. for $x = \\{x_1, \\dots, x_N \\}$: \n",
    "\n",
    "$$|x|_{\\infty} = max_{i} |x_i|$$\n",
    "\n",
    "s.t the normalized feature $x_i$ becomes: \n",
    "\n",
    "$$ \\hat{x_i} = \\frac{x_i}{|x|_{\\infty}}$$\n",
    "\n",
    "This way each feature stays in the range $[-1,1]$."
   ]
  },
  {
   "cell_type": "code",
   "execution_count": null,
   "metadata": {},
   "outputs": [],
   "source": [
    "def angle_encoding(x, sigma=\"y\"):\n",
    "\n",
    "    max_abs_feature = max(abs(i) for i in x)\n",
    "    x_normalized = x / max_abs_feature * np.pi\n",
    "    n_qubits = len(x_normalized)\n",
    "    qr = QuantumRegister(n_qubits,'qr')\n",
    "    qc = QuantumCircuit(qr)\n",
    "\n",
    "    for i in range(n_qubits):\n",
    "        if sigma == 'x':\n",
    "            qc.rx(2*x_normalized[i], i)\n",
    "        elif sigma == 'y':\n",
    "            qc.ry(2*x_normalized[i], i)\n",
    "        elif sigma == 'z':\n",
    "            qc.rz(2*x_normalized[i], i)\n",
    "\n",
    "    return qc"
   ]
  },
  {
   "cell_type": "code",
   "execution_count": null,
   "metadata": {},
   "outputs": [],
   "source": [
    "x = np.array([2,3,1,11,23])\n",
    "qc = angle_encoding(x)\n",
    "\n",
    "qc.measure_all()\n",
    "\n",
    "probs = execute_circuit(qc, shots=1024, seed=None, primitive=\"sampler\", binary=True, reverse=True)\n",
    "print(probs)\n",
    "\n",
    "qc.draw(output=\"mpl\")"
   ]
  },
  {
   "cell_type": "markdown",
   "metadata": {},
   "source": [
    "There is also a strategy called **Dense Angle Encoding** where the goal is to reduce the number of qubits in angle encoding. It is a slight generalization of angle encoding, that encodes two features per qubit using the relative phase as: \n",
    "\n",
    "$$ |x\\rangle = \\bigotimes_{i=1}^{\\lceil N/2\\rceil} cos(x_{2i-1})|0\\rangle + e^{jx_{2i}}sin(x_{2i-1}) |1\\rangle $$\n",
    "\n",
    "<span style=\"color: orange;\">HOMEWORK</span>  - Implement Dense Angle Encoding"
   ]
  },
  {
   "cell_type": "markdown",
   "metadata": {},
   "source": [
    "### 5. IQP Encoding <a id=\"iqp_encoding\"></a>"
   ]
  },
  {
   "cell_type": "markdown",
   "metadata": {},
   "source": [
    "*IQP - Instantaneous Quantum Polynomial circuits* - Complex encoding strategy. Hadamard gates + Angle encoding (with $\\sigma_z$ rotation) + controlled rotations for pairs of features. For $N$ features $x=\\{x_0, \\dots, x_{N-1}\\}$ the encoding works on $N$ qubits as:\n",
    "\n",
    "$$ |x\\rangle = (U(x) H^{\\otimes N})^r |0\\rangle$$\n",
    "\n",
    "where \n",
    "\n",
    "$$U(x) = \\prod_{i,j \\in x} e^{j (\\pi - x_i)(\\pi - x_j) \\sigma_{z_i} \\otimes \\sigma_{z_j}} \\bigotimes_{i=0}^{N-1} e^{j x_i \\sigma_z}$$\n",
    "\n",
    "where $r$ is the number of repetitions of the the encoding.\n",
    "In essence , the circuit is as follows:\n",
    "\n",
    "<p align=\"center\">\n",
    "  <img width=\"1000\" height=\"200\" src=\"images/iqp.png\">\n",
    "</p>\n",
    "\n",
    "REMEMBER! The reason for iqp encoding is that this type of circuits are hard to simulate classically which may be a form of quantum advantage when used in quantum machine learning models.\n"
   ]
  },
  {
   "cell_type": "markdown",
   "metadata": {},
   "source": [
    " <span style=\"color: red;\">EXERCISE 6.1</span> - Create the IQP encoded quantum state for the *single* datapoint $x = (2,3,1,11,23)$. Use $L_{\\infty}$ normalization. "
   ]
  },
  {
   "cell_type": "code",
   "execution_count": null,
   "metadata": {},
   "outputs": [],
   "source": [
    "from itertools import combinations\n",
    "\n",
    "def iqp_encoding(x, r=1):\n",
    "    max_abs_feature = max(abs(i) for i in x)\n",
    "    x_normalized = x / max_abs_feature * np.pi\n",
    "    n_qubits = len(x_normalized)\n",
    "    qr = QuantumRegister(n_qubits,'qr')\n",
    "    qc = QuantumCircuit(qr) \n",
    "\n",
    "    qc.h(qr)\n",
    "\n",
    "    qc.barrier()\n",
    "\n",
    "    for i in range(n_qubits):\n",
    "        qc.p(2*x_normalized[i],i)\n",
    "\n",
    "    for _ in range(r):\n",
    "\n",
    "        for i in range(n_qubits):\n",
    "            for j in range(i+1,n_qubits):\n",
    "                qc.cx(qr[i],qr[j])\n",
    "                qc.p(2*(np.pi-x_normalized[i])*(np.pi-x_normalized[j]),j)\n",
    "                qc.cx(qr[i],qr[j])\n",
    "                qc.barrier()\n",
    "\n",
    "    return qc"
   ]
  },
  {
   "cell_type": "code",
   "execution_count": null,
   "metadata": {},
   "outputs": [],
   "source": [
    "x = np.array([2,3,1,11,23])\n",
    "qc = iqp_encoding(x, r=1)\n",
    "qc.draw(output=\"mpl\")"
   ]
  },
  {
   "cell_type": "markdown",
   "metadata": {},
   "source": [
    "### GREAT NEWS !!!! Qiskit has a built in function for IQP encoding ! The **ZZFeatureMap** function"
   ]
  },
  {
   "cell_type": "code",
   "execution_count": null,
   "metadata": {},
   "outputs": [],
   "source": [
    "from qiskit.circuit.library import ZZFeatureMap\n",
    "\n",
    "\n",
    "#ZZFeatureMap(n_qubits, reps=1, insert_barriers=True)\n",
    "circuit = ZZFeatureMap(5, reps=1, insert_barriers=True)\n",
    "circuit.decompose().draw(output=\"mpl\")"
   ]
  },
  {
   "cell_type": "markdown",
   "metadata": {},
   "source": [
    "Then you can bind the quantum circuit to a given datapoint !"
   ]
  },
  {
   "cell_type": "code",
   "execution_count": null,
   "metadata": {},
   "outputs": [],
   "source": [
    "x = np.array([2,3,1,11,23])\n",
    "\n",
    "#Normalizing the dataset\n",
    "\n",
    "max_abs_feature = max(abs(i) for i in x)\n",
    "x = x / max_abs_feature * np.pi\n",
    "\n",
    "encode = circuit.bind_parameters(x)\n",
    "encode.decompose().draw(output=\"mpl\")"
   ]
  },
  {
   "cell_type": "markdown",
   "metadata": {},
   "source": [
    "### Qiskit has a high level function for producing more interesting encodings:\n",
    "\n",
    "```python\n",
    "from qiskit.circuit.library import PauliFeatureMap\n",
    "```"
   ]
  },
  {
   "cell_type": "code",
   "execution_count": 49,
   "metadata": {},
   "outputs": [
    {
     "data": {
      "image/png": "[encoded data removed]",
      "text/plain": [
       "<Figure size 2210.55x953.167 with 1 Axes>"
      ]
     },
     "execution_count": 49,
     "metadata": {},
     "output_type": "execute_result"
    }
   ],
   "source": [
    "from qiskit.circuit.library import PauliFeatureMap\n",
    "\n",
    "qc = PauliFeatureMap(feature_dimension=5, reps=1, paulis=[\"ZZ\"], entanglement=\"full\")\n",
    "\n",
    "qc.decompose().draw(output=\"mpl\")"
   ]
  },
  {
   "cell_type": "code",
   "execution_count": null,
   "metadata": {},
   "outputs": [],
   "source": []
  }
 ],
 "metadata": {
  "interpreter": {
   "hash": "62314c999a2395b70c6666201aadb026cfae52075e045b8f587202e06e575832"
  },
  "kernelspec": {
   "display_name": "Python 3 (ipykernel)",
   "language": "python",
   "name": "python3"
  },
  "language_info": {
   "codemirror_mode": {
    "name": "ipython",
    "version": 3
   },
   "file_extension": ".py",
   "mimetype": "text/x-python",
   "name": "python",
   "nbconvert_exporter": "python",
   "pygments_lexer": "ipython3",
   "version": "3.11.5"
  }
 },
 "nbformat": 4,
 "nbformat_minor": 2
}
