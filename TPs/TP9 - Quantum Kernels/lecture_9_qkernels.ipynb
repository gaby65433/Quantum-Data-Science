{
 "cells": [
  {
   "cell_type": "markdown",
   "metadata": {},
   "source": [
    "##### Quantum Data Science 2023/2024\n",
    "# Lecture 9 - Quantum Feature maps, Kernels and Support Vector Machines\n",
    "\n",
    "<!-- no toc -->\n",
    "### Contents \n",
    "\n",
    "1. [Recap: Support Vector Machines with kernels](#svm_kernels)\n",
    "2. [Data encoding as a Quantum Feature map](#qfeaturemap)\n",
    "3. [Quantum Kernel estimation](#qke)\n",
    "4. [Quantum Kernel estimation in Qiskit](#qke)\n",
    "5. [SVM's with Quantum Kernels for ad_hoc_dataset](#qke_ad_hoc)\n",
    "6. [Caveats](#caveats)\n",
    "7. [References](#references)"
   ]
  },
  {
   "cell_type": "markdown",
   "metadata": {},
   "source": [
    "## 1. Recap: Support Vector Machines with kernels <a id='margins_intuition'></a>\n",
    "    \n",
    "*Support vector machines (SVMs)* are a powerful class of supervised learning algorithms (even today believed by some to be the best off the shelf supervised learning algorithm) for classification and regression problems. In this lecture, we will focus on the binary classification problem. The main idea behind SVMs is to find the hyperplane that best separates the data into different classes. \n",
    "\n",
    "Why hyperplanes ? From the *Occam’s razor principle*, hypothesis sets with smaller complexity provide better learning guarantees. A natural hypothesis set with relatively small complexity is that of *linear classifiers*, or hyperplanes.\n",
    "\n",
    "$$ \\mathcal{H} = \\{x \\mapsto sign(w^T x + b) : x \\in \\mathbb{R}^M, w \\in \\mathbb{R}^M, b \\in \\mathbb{R} \\}$$ \n",
    "\n",
    "\n",
    "which is other way of saying what we had in our percetron algorithm with the heaviside step function.\n",
    "\n",
    "General equation of the hyperplane $w^T x + b=0$. Consider labels $y \\in \\{-1,1\\}$.\n",
    "\n",
    "The sign operator returns the sign of the operation inside the brackets. Thus, the hypothesis labels positively all points falling on one side of the hyperplane and negatively all others (Figure below left)\n",
    "\n",
    "<p align=\"center\">\n",
    " <img width=\"1000\" height=\"450\" src=\"images/margins.png\">\n",
    "</p>"
   ]
  },
  {
   "cell_type": "markdown",
   "metadata": {},
   "source": [
    "Which hyperplane should we choose from the infinite number of possible hyperplanes? We don't know yet, but one thing we can agree is that the points the further away from the hyperplane, the more confident we are about their classification right ? In the figure in the middle we notice that we need a very small change in the green hyperplane to misclassify a datapoint. Therefore, a good hyperplane would be one that has a large margin between points of different classes. This is the intuition behind SVMs and the reason why they are called *maximum margin classifiers* (illustrated in the figure on the right)."
   ]
  },
  {
   "cell_type": "markdown",
   "metadata": {},
   "source": [
    "#### --- Dual formulation <a id='dual_formulation'></a>\n",
    "\n",
    "However, notice that we are trying to optimize a function in which the weights $w$ are $N$ dimensional with $N$ being the number of features. This is a problem because the optimization problem becomes computationally expensive as the number of features increases. \n",
    "\n",
    "The dual formulation removes the dependence on the weights $w$ be noticing that the optimal weights can be expressed as a linear combination of the training data points if we set the derivatives to zero (convex problem -> KKT conditions), simplifying the problem to: \n",
    "\n",
    "$$\n",
    "\\begin{equation*}\n",
    "L(\\alpha) = \\sum_{i=0}^{M-1} \\alpha_i - \\frac{1}{2} \\sum_{i=0}^{M-1} \\sum_{j=0}^{M-1} \\alpha_i \\alpha_j y_i y_j x_i \\cdot x_j\n",
    "\\end{equation*}\n",
    "$$\n",
    "\n",
    "subject to the constraints $\\alpha_i \\geq 0$ and $\\sum_{i=0}^{M-1} \\alpha_i y_i = 0$. \n",
    "\n",
    "Thus, we optimize for as many parameters as the number of training data points, which is computationally more efficient, and after the optimization only support vectors will have non-zero $\\alpha_i$ values.\n",
    "\n",
    "The model can be expressed as:\n",
    "\n",
    "$$\n",
    "\\begin{equation*}\n",
    "f(x) =\\sum_{i=0}^{M-1} \\alpha_i y_i x_i \\cdot x + b\n",
    "\\end{equation*}\n",
    "$$"
   ]
  },
  {
   "cell_type": "markdown",
   "metadata": {},
   "source": [
    "#### --- Kernel trick <a id='dual_formulation'></a>\n",
    "\n",
    "Recall that the SVM is a linear model , thus it cannot classify non-linear data. However, we can use the kernel trick to map the data into a higher dimensional space where it may be easier to separate. \n",
    "\n",
    "It replaces the dot product $x_i \\cdot x_j$ with a dot product in a feature space of higher dimensionality, where the data is linearly separable by a hyperplane.\n",
    "\n",
    "<p align=\"center\">\n",
    "    <img width=\"1000\" height=\"500\" src=\"images/kernel_trick.png\">\n",
    "</p>\n",
    "\n"
   ]
  },
  {
   "cell_type": "markdown",
   "metadata": {},
   "source": [
    "We replace the inner product with an inner product in a higher dimensional space:\n",
    "\n",
    "$$\n",
    "\\begin{equation*}\n",
    "L(\\alpha) = \\sum_{i=0}^{M-1} \\alpha_i - \\frac{1}{2} \\sum_{i=0}^{M-1} \\sum_{j=0}^{M-1} \\alpha_i \\alpha_j y_i y_j k(x_i,x_j)\n",
    "\\end{equation*}\n",
    "$$\n",
    "\n",
    "where $k$ is the kernel function that acts as a similarity measure between two points $x_i$ and $x_j$ in feature space: \n",
    "\n",
    "$$ K: \\Omega \\times \\Omega \\mapsto \\mathbb{R} $$\n",
    "$$ K: (x,y) \\longmapsto k(x,y)=\\langle\\phi(x) , \\phi(y)\\rangle $$\n",
    "\n",
    "The Kernel trick allow us to compare points in high dimensional feature spaces by using the original input vectors! \n",
    "\n",
    "**Mercer's condition**: $k(x,y) \\geq 0$  and the kernel matrix $\\mathcal{K}$:\n",
    "\n",
    "$$ \\mathcal{K} = \\left[ k(x,y) \\right]_{xy}$$ \n",
    "\n",
    "Thus, the kernel function is positive definite and symmetric $k(x,x') \\geq 0$ and the optimization problem is convex.\n",
    "\n",
    "Therefore, the Kernel matrix that compare each pair of points is also positive definite with diagonal ones $K_{ii} = 1$\n"
   ]
  },
  {
   "cell_type": "markdown",
   "metadata": {},
   "source": [
    "\n",
    "  **stricly convex**. This is awesome because it tell us that we have a unique solution - Any local minimum is the global minimum. This is not true is general neural networks algorithms. Here there are well established theoretical guarantees. For instance the the number of datapoints necessary to generalize and guarantee a minimum prediction error - Sample complexity. See [1]\n",
    "  \n",
    "<p align=\"center\">\n",
    " <img width=\"800\" height=\"400\" src=\"images/convex.jpeg\">\n",
    "</p>\n"
   ]
  },
  {
   "cell_type": "markdown",
   "metadata": {},
   "source": [
    "\n",
    "----------------\n",
    "#### Examples of kernels:\n",
    "\n",
    "<p align=\"center\">\n",
    "<img width=\"/00\" height=\"300\" src=\"images/kernels.png\">\n",
    "</p>\n",
    "\n",
    "----------------\n",
    "\n"
   ]
  },
  {
   "cell_type": "markdown",
   "metadata": {},
   "source": [
    "---\n",
    "\n",
    "$\\gamma$ in the Gaussian (or Radial Basis Function RBF) kernel is a hyperparameter that controls the bandwidth of the kernel. \n",
    "\n",
    "Usually $\\gamma=\\frac{1}{2\\sigma^2}$ where $\\sigma$ is the standard deviation of the Gaussian. Variance $\\sigma^2 = 1$ is a common choice. But it depends on the problem and fine tuning may be needed.\n",
    "\n",
    "\n",
    "\n",
    "---"
   ]
  },
  {
   "cell_type": "markdown",
   "metadata": {},
   "source": [
    "## 2 - Quantum Feature maps and kernels <a id=\"qfeaturemap\"></a>"
   ]
  },
  {
   "cell_type": "markdown",
   "metadata": {},
   "source": [
    "### If the kernel can be any positive definite function, then the kernel can also come from a quantum circuit ! All we need is a quantum feature map and a way of comparing data datapoins in quantum feature space!\n",
    "\n",
    "why ? \n",
    "\n",
    "\n",
    "- Because quantum computers already work in high dimensional feature spaces - we can benefit from quantum computers that easily manipulate data that live in $2^n$ in  Hilbert space. We just need to map classical data to a quantum computer and then compare the data in quantum feature space. Right? \n",
    "  \n",
    "    How? \n",
    "\n",
    "    "
   ]
  },
  {
   "cell_type": "markdown",
   "metadata": {},
   "source": [
    "### Quantum Feature map:\n",
    "\n",
    "$$ \\phi: x \\mapsto |\\phi(x) \\rangle $$\n",
    "\n",
    "### Quantum kernel: \n",
    "\n",
    "For two points $x$ and $y$ , we can use the overlap: \n",
    "\n",
    "$$k(x,y) = |\\langle \\phi(x) | \\phi(y) \\rangle|^2 $$\n",
    "\n",
    "as the kernel function where $|\\$ and $\\phi$ is the quantum feature map (mapping of classical data into quantum system).\n",
    "\n",
    "\n",
    "This is indeed a kernel. Notice that this is also positive semidefinite ( $k(x,y) \\geq 0 $)"
   ]
  },
  {
   "cell_type": "markdown",
   "metadata": {},
   "source": [
    "## 3 - Quantum Kernel estimation <a id=\"qke\"></a>\n",
    "\n",
    "\n",
    "Recall that the overlap can be obtained with standard SWAP TEST / INVERSION TEST circuits (lecture 1 and 2)."
   ]
  },
  {
   "cell_type": "markdown",
   "metadata": {},
   "source": [
    "<p align=\"center\">\n",
    " <img width=\"850\" height=\"350\" src=\"images/swap_test_inversion_test.png\">\n",
    "</p>\n"
   ]
  },
  {
   "cell_type": "markdown",
   "metadata": {
    "vscode": {
     "languageId": "plaintext"
    }
   },
   "source": [
    "#### Therefore , data encoding + swap tests is all we need to quantum kernels"
   ]
  },
  {
   "cell_type": "markdown",
   "metadata": {},
   "source": [
    "#### Types of functions being generated from the data encoding \n",
    "\n",
    "\n",
    "<p align=\"center\">\n",
    " <img width=\"/00\" height=\"300\" src=\"images/kernel_types.png\">\n",
    "</p>"
   ]
  },
  {
   "cell_type": "markdown",
   "metadata": {},
   "source": [
    "*\"Because quantum computers already work in high dimensional feature spaces - we can benefit from quantum computers that easily manipulate data that live in $2^n$ in  Hilbert space. We just need to map classical data to a quantum computer and then compare the data in quantum feature space. Right?\"*\n",
    "  \n",
    "\n",
    "Well, not entirely true ... \n",
    "\n",
    "Notice that classical computers can efficiently compute said kernels. Therefore, the goal here is to exploit quantum processes that are not efficiently recovered by a classical computer and create powerful feature maps! \n",
    "\n",
    "One such example is the IQP encoding: \n",
    "\n",
    "<p align=\"center\">\n",
    " <img width=\"800\" height=\"250\" src=\"images/IQP.png\">\n",
    "</p>\n",
    "\n",
    "which is conjectured to be hard to simulate classically, as we increase the number of layers, especially for layers > 2. \n",
    "\n"
   ]
  },
  {
   "cell_type": "markdown",
   "metadata": {
    "vscode": {
     "languageId": "plaintext"
    }
   },
   "source": [
    "## 4 - Quantum Kernel estimation in Qiskit <a id=\"qke_qiskit\"></a>\n",
    "\n",
    "\n",
    "Qiskit provide a [Quantum Kernels module](https://qiskit-community.github.io/qiskit-machine-learning/apidocs/qiskit_machine_learning.kernels.html) providing a quantum kernel estimator algorithm for the overlap kernel. \n",
    "\n",
    "```python\n",
    "\n",
    "class FidelityQuantumKernel(feature_map=None, fidelity=None, enforce_psd=True, evaluate_duplicates='off_diagonal', max_circuits_per_job=None)\n",
    "\n"
   ]
  },
  {
   "cell_type": "code",
   "execution_count": 1,
   "metadata": {},
   "outputs": [],
   "source": [
    "from qiskit_machine_learning.kernels import FidelityQuantumKernel"
   ]
  },
  {
   "cell_type": "code",
   "execution_count": 2,
   "metadata": {},
   "outputs": [],
   "source": [
    "# angle encoding kernel \n",
    "\n",
    "def angle_encoding(x, sigma=\"y\"):\n",
    "\n",
    "    n_qubits = len(x)\n",
    "\n",
    "    features = QuantumRegister(n_qubits,\"feature\")\n",
    "    qc = QuantumCircuit(features)\n",
    "\n",
    "    for i in range(len(x)):\n",
    "        angle = 2*x[i]\n",
    "        if sigma == \"y\":\n",
    "            qc.ry(angle, features[i])\n",
    "        if sigma == \"x\":\n",
    "            qc.rx(angle, features[i])\n",
    "        if sigma == \"z\":\n",
    "            qc.rz(angle, features[i])\n",
    "\n",
    "    return qc"
   ]
  },
  {
   "cell_type": "code",
   "execution_count": 3,
   "metadata": {},
   "outputs": [],
   "source": [
    "from qiskit.circuit import Parameter,ParameterVector\n",
    "from qiskit import *\n",
    "import numpy as np"
   ]
  },
  {
   "cell_type": "code",
   "execution_count": 4,
   "metadata": {},
   "outputs": [
    {
     "data": {
      "image/png": "[encoded data removed]",
      "text/plain": [
       "<Figure size 290.423x200.667 with 1 Axes>"
      ]
     },
     "execution_count": 4,
     "metadata": {},
     "output_type": "execute_result"
    }
   ],
   "source": [
    "\n",
    "n_qubits = 2\n",
    "p = ParameterVector('p', n_qubits)\n",
    "\n",
    "encoding_circuit = angle_encoding(p, sigma=\"x\")\n",
    "\n",
    "\n",
    "encoding_circuit.draw('mpl')\n"
   ]
  },
  {
   "cell_type": "markdown",
   "metadata": {},
   "source": [
    "Let $X = \\{[1.0,1.0,1.0,1.0,1.0], [10.0,5.0,10.0,5.0,10.0], [1.0,1.0,1.0,1.0,1.0], [10.0,5.0,10.0,5.0,10.0]\\}$ be an hypothetical dataset"
   ]
  },
  {
   "cell_type": "code",
   "execution_count": 83,
   "metadata": {},
   "outputs": [],
   "source": [
    "X = np.array([[1.0,1.0,1.0,1.0,1.0], [10.0,5.0,10.0,5.0,10.0], [1.0,1.0,1.0,1.0,1.0], [10.0,5.0,10.0,5.0,10.0]])\n",
    "\n",
    "# define the quantum data encoding \n",
    "\n",
    "n_qubits = 5\n",
    "p = ParameterVector('p', n_qubits)\n",
    "\n",
    "encoding_circuit = angle_encoding(p, sigma=\"x\")\n",
    "\n",
    "# define the kernel object \n",
    "\n",
    "kernel = FidelityQuantumKernel(feature_map=encoding_circuit, fidelity=None, enforce_psd=True, evaluate_duplicates='off_diagonal', max_circuits_per_job=None)\n",
    "\n"
   ]
  },
  {
   "cell_type": "markdown",
   "metadata": {},
   "source": [
    "#### Evaluate the kernel on the dataset:\n"
   ]
  },
  {
   "cell_type": "code",
   "execution_count": 6,
   "metadata": {},
   "outputs": [
    {
     "name": "stdout",
     "output_type": "stream",
     "text": [
      "[[1.         0.10443521 1.         0.10443521]\n",
      " [0.10443521 1.         0.10443521 1.        ]\n",
      " [1.         0.10443521 1.         0.10443521]\n",
      " [0.10443521 1.         0.10443521 1.        ]]\n"
     ]
    }
   ],
   "source": [
    "kernel_matrix = kernel.evaluate(X,X)\n",
    "\n",
    "print(kernel_matrix)"
   ]
  },
  {
   "cell_type": "markdown",
   "metadata": {},
   "source": [
    "## 5. SVM's with Quantum Kernels for ad_hoc_dataset <a id=\"qke_ad_hoc\"></a>\n",
    "\n",
    "Consider the ad_hoc_dataset from the previous lecture with 10 features and two classes. \n",
    "\n",
    "Use the quantum kernel estimator in quantum qSVM algorithm to classify the data and compare with classical kernels\n",
    "\n"
   ]
  },
  {
   "cell_type": "markdown",
   "metadata": {},
   "source": [
    "Qiskit also provides a quantum support vector classifier algorithm - the QSVC algorithm that extends the classical SVC algorithm from sklearn to use quantum kernels. \n"
   ]
  },
  {
   "cell_type": "code",
   "execution_count": 99,
   "metadata": {},
   "outputs": [],
   "source": [
    "from qiskit_machine_learning.datasets import ad_hoc_data\n",
    "from sklearn.datasets import make_classification\n",
    "import matplotlib.pyplot as plt"
   ]
  },
  {
   "cell_type": "code",
   "execution_count": 100,
   "metadata": {},
   "outputs": [],
   "source": [
    "n_samples = 100\n",
    "n_features = 10\n",
    "n_classes = 2"
   ]
  },
  {
   "cell_type": "code",
   "execution_count": 101,
   "metadata": {},
   "outputs": [],
   "source": [
    "XX,Y = make_classification(n_samples=n_samples, n_features=n_features, n_classes=n_classes)\n"
   ]
  },
  {
   "cell_type": "code",
   "execution_count": 102,
   "metadata": {},
   "outputs": [
    {
     "data": {
      "text/plain": [
       "Text(0.5, 1.0, 'ad_hoc dataset')"
      ]
     },
     "execution_count": 102,
     "metadata": {},
     "output_type": "execute_result"
    },
    {
     "data": {
      "image/png": "[encoded data removed]",
      "text/plain": [
       "<Figure size 640x480 with 1 Axes>"
      ]
     },
     "metadata": {},
     "output_type": "display_data"
    }
   ],
   "source": [
    "for feature, label in zip(XX,Y):    \n",
    "    if label:\n",
    "        color = 'C4'\n",
    "        marker = 'o'\n",
    "        plt.scatter(feature[0], feature[1], color=color, marker=marker)\n",
    "    else:\n",
    "        color = 'C9'\n",
    "        marker = 's'\n",
    "        plt.scatter(feature[0], feature[1], color=color, marker=marker)\n",
    "\n",
    "plt.xlabel(\"feature x0\")\n",
    "plt.ylabel(\"feature x1\")\n",
    "plt.title(\"ad_hoc dataset\")"
   ]
  },
  {
   "cell_type": "code",
   "execution_count": 105,
   "metadata": {},
   "outputs": [],
   "source": [
    "\n",
    "# define the quantum data encoding \n",
    "\n",
    "n_qubits = 10\n",
    "p = ParameterVector('p', n_qubits)\n",
    "\n",
    "encoding_circuit = angle_encoding(p, sigma=\"x\")\n",
    "\n",
    "# define the kernel object \n",
    "\n",
    "kernel = FidelityQuantumKernel(feature_map=encoding_circuit, fidelity=None, enforce_psd=True, evaluate_duplicates='off_diagonal', max_circuits_per_job=None)\n",
    "\n"
   ]
  },
  {
   "cell_type": "code",
   "execution_count": 106,
   "metadata": {},
   "outputs": [],
   "source": [
    "from qiskit_machine_learning.algorithms import QSVC\n",
    "\n",
    "qsvc = QSVC(quantum_kernel=kernel)\n",
    "\n",
    "qsvc.fit(XX, Y)\n",
    "\n",
    "qsvc_score = qsvc.score(XX, Y)\n",
    "\n",
    "print(qsvc_score)\n",
    "\n"
   ]
  },
  {
   "cell_type": "code",
   "execution_count": 94,
   "metadata": {},
   "outputs": [
    {
     "name": "stdout",
     "output_type": "stream",
     "text": [
      "[[ 1.00000000e+00  9.91941878e-02  2.26127124e-01  1.20627057e-02\n",
      "   2.08455221e-02  9.34454530e-01  5.91349943e-01  4.86061662e-01\n",
      "   3.33360689e-01  2.89653723e-01  3.69880965e-03  2.34071408e-03\n",
      "   4.80651528e-01  8.86961682e-02  1.40376425e-01  7.33292044e-02\n",
      "   2.08455221e-02  2.65932917e-01  6.16281916e-01  2.82858037e-01]\n",
      " [ 9.91941878e-02  1.00000000e+00  1.22575090e-01  4.86061662e-01\n",
      "   8.11018846e-01  2.05115077e-01  3.24124007e-01  2.81067389e-03\n",
      "   5.29300155e-01  1.67726195e-16  5.66924131e-02  6.14029333e-01\n",
      "   5.96751151e-02  2.48202398e-01  9.84291581e-01  1.36215185e-03\n",
      "   4.23856969e-01  3.92710486e-03  7.17228193e-16  1.57084194e-02]\n",
      " [ 2.26127124e-01  1.22575090e-01  1.00000000e+00  7.55850692e-01\n",
      "   4.66757196e-01  2.48202398e-01  2.85978379e-01  2.17154490e-03\n",
      "   7.81800388e-02  3.40835851e-03  1.70454735e-01  7.10078972e-01\n",
      "   6.44227203e-01 -5.09103749e-16  5.59408295e-02  7.81800388e-02\n",
      "   7.14755034e-04  8.48567668e-01  2.48202398e-01  6.94584193e-01]\n",
      " [ 1.20627057e-02  4.86061662e-01  7.55850692e-01  1.00000000e+00\n",
      "   8.72749615e-01  3.69880965e-03  3.80421600e-03  1.29405965e-02\n",
      "   4.80651528e-01  1.42662349e-02  2.45673684e-02  9.61084027e-01\n",
      "   1.70075948e-01  3.64571370e-03  3.83652322e-01  1.21308137e-02\n",
      "   2.74165992e-02  4.05101447e-01  1.65087282e-01  2.35060691e-01]\n",
      " [ 2.08455221e-02  8.11018846e-01  4.66757196e-01  8.72749615e-01\n",
      "   1.00000000e+00  5.06346024e-02  6.18466600e-02  1.21308137e-02\n",
      "   6.28699910e-01 -7.37360947e-16  1.36215185e-03  9.38153340e-01\n",
      "   1.56464866e-02  5.07437319e-02  7.20420519e-01  1.29405965e-02\n",
      "   1.37787648e-01  1.74922665e-01  3.14513752e-02  5.80216506e-02]\n",
      " [ 9.34454530e-01  2.05115077e-01  2.48202398e-01  3.69880965e-03\n",
      "   5.06346024e-02  1.00000000e+00  8.18711995e-01  2.98671985e-01\n",
      "   4.04707407e-01  1.18654540e-01  3.17588826e-02  4.81979132e-16\n",
      "   6.63849086e-01  1.11983696e-02  2.78206256e-01  2.81067389e-03\n",
      "   2.58049750e-03  3.88575580e-01  4.28381373e-01  4.55903010e-01]\n",
      " [ 5.91349943e-01  3.24124007e-01  2.85978379e-01  3.80421600e-03\n",
      "   6.18466600e-02  8.18711995e-01  1.00000000e+00  3.03535632e-02\n",
      "   3.12010388e-01  1.12308827e-16  3.12500000e-01  5.84151174e-16\n",
      "   8.61075955e-01  6.80749036e-02  4.39623102e-01  9.66077296e-02\n",
      "   1.51902653e-01  5.72845135e-01  1.51902653e-01  7.20420519e-01]\n",
      " [ 4.86061662e-01  2.81067389e-03  2.17154490e-03  1.29405965e-02\n",
      "   1.21308137e-02  2.98671985e-01  3.03535632e-02  1.00000000e+00\n",
      "   3.12010388e-01  2.77029405e-01  2.78206256e-01  4.75819385e-03\n",
      "   8.34737963e-03  7.40950609e-01  3.22789431e-03  2.46297315e-01\n",
      "   5.56972873e-01 -4.86961843e-16  2.59693755e-01  1.60193526e-03]\n",
      " [ 3.33360689e-01  5.29300155e-01  7.81800388e-02  4.80651528e-01\n",
      "   6.28699910e-01  4.04707407e-01  3.12010388e-01  3.12010388e-01\n",
      "   1.00000000e+00  9.15036091e-04  2.12873724e-03  4.55903010e-01\n",
      "   6.80749036e-02  3.17588826e-02  5.29300155e-01  2.46754441e-04\n",
      "   9.63642967e-17 -5.05798254e-16  2.81067389e-03  1.86582213e-02]\n",
      " [ 2.89653723e-01  1.38093928e-16  3.40835851e-03  1.42662349e-02\n",
      "  -6.74653180e-16  1.18654540e-01  1.61021746e-16  2.77029405e-01\n",
      "   9.15036091e-04  1.00000000e+00  5.92008497e-01 -2.92074634e-16\n",
      "   3.69880965e-03  1.22575090e-01  9.71513276e-04  8.61075955e-01\n",
      "   7.33292044e-02  3.49733237e-02  7.67913397e-01  6.08751467e-02]\n",
      " [ 3.69880965e-03  5.66924131e-02  1.70454735e-01  2.45673684e-02\n",
      "   1.36215185e-03  3.17588826e-02  3.12500000e-01  2.78206256e-01\n",
      "   2.12873724e-03  5.92008497e-01  1.00000000e+00  3.29915028e-02\n",
      "   4.04707407e-01  3.67510253e-01  1.07628995e-01  8.80131689e-01\n",
      "   3.40064377e-01  4.59382866e-01  1.63976541e-01  5.72845135e-01]\n",
      " [ 2.34071408e-03  6.14029333e-01  7.10078972e-01  9.61084027e-01\n",
      "   9.38153340e-01  5.21564287e-16  6.17241171e-16  4.75819385e-03\n",
      "   4.55903010e-01 -3.13592094e-16  3.29915028e-02  1.00000000e+00\n",
      "   1.34981395e-01  2.74165992e-02  4.98530238e-01  3.89079567e-02\n",
      "   8.01839491e-02  3.92043108e-01  8.01839491e-02  2.17732821e-01]\n",
      " [ 4.80651528e-01  5.96751151e-02  6.44227203e-01  1.70075948e-01\n",
      "   1.56464866e-02  6.63849086e-01  8.61075955e-01  8.34737963e-03\n",
      "   6.80749036e-02  3.69880965e-03  4.04707407e-01  1.34981395e-01\n",
      "   1.00000000e+00  4.68195181e-02  1.30757492e-01  1.74922665e-01\n",
      "   8.24323555e-02  8.90300098e-01  1.70075948e-01  9.49731374e-01]\n",
      " [ 8.86961682e-02  2.48202398e-01 -5.24576803e-16  3.64571370e-03\n",
      "   5.07437319e-02  1.11983696e-02  6.80749036e-02  7.40950609e-01\n",
      "   3.17588826e-02  1.22575090e-01  3.67510253e-01  2.74165992e-02\n",
      "   4.68195181e-02  1.00000000e+00  2.69353538e-01  1.80573250e-01\n",
      "   9.61084027e-01  2.21622985e-02  6.35032930e-02  6.66344667e-02]\n",
      " [ 1.40376425e-01  9.84291581e-01  5.59408295e-02  3.83652322e-01\n",
      "   7.20420519e-01  2.78206256e-01  4.39623102e-01  3.22789431e-03\n",
      "   5.29300155e-01  9.71513276e-04  1.07628995e-01  4.98530238e-01\n",
      "   1.30757492e-01  2.69353538e-01  1.00000000e+00  1.21308137e-02\n",
      "   4.52151204e-01  3.92710486e-03  9.71513276e-04  6.18466600e-02]\n",
      " [ 7.33292044e-02  1.36215185e-03  7.81800388e-02  1.21308137e-02\n",
      "   1.29405965e-02  2.81067389e-03  9.66077296e-02  2.46297315e-01\n",
      "   2.46754441e-04  8.61075955e-01  8.80131689e-01  3.89079567e-02\n",
      "   1.74922665e-01  1.80573250e-01  1.21308137e-02  1.00000000e+00\n",
      "   1.33386949e-01  2.82600304e-01  4.04707407e-01  3.44129351e-01]\n",
      " [ 2.08455221e-02  4.23856969e-01  7.14755034e-04  2.74165992e-02\n",
      "   1.37787648e-01  2.58049750e-03  1.51902653e-01  5.56972873e-01\n",
      "   1.49194812e-16  7.33292044e-02  3.40064377e-01  8.01839491e-02\n",
      "   8.24323555e-02  9.61084027e-01  4.52151204e-01  1.33386949e-01\n",
      "   1.00000000e+00  2.51288758e-02  2.74165992e-02  8.49524185e-02]\n",
      " [ 2.65932917e-01  3.92710486e-03  8.48567668e-01  4.05101447e-01\n",
      "   1.74922665e-01  3.88575580e-01  5.72845135e-01 -4.76849730e-16\n",
      "  -5.01109401e-16  3.49733237e-02  4.59382866e-01  3.92043108e-01\n",
      "   8.90300098e-01  2.21622985e-02  3.92710486e-03  2.82600304e-01\n",
      "   2.51288758e-02  1.00000000e+00  9.51150133e-02  9.61084027e-01]\n",
      " [ 6.16281916e-01  6.99597499e-16  2.48202398e-01  1.65087282e-01\n",
      "   3.14513752e-02  4.28381373e-01  1.51902653e-01  2.59693755e-01\n",
      "   2.81067389e-03  7.67913397e-01  1.63976541e-01  8.01839491e-02\n",
      "   1.70075948e-01  6.35032930e-02  9.71513276e-04  4.04707407e-01\n",
      "   2.74165992e-02  9.51150133e-02  1.00000000e+00  6.08751467e-02]\n",
      " [ 2.82858037e-01  1.57084194e-02  6.94584193e-01  2.35060691e-01\n",
      "   5.80216506e-02  4.55903010e-01  7.20420519e-01  1.60193526e-03\n",
      "   1.86582213e-02  6.08751467e-02  5.72845135e-01  2.17732821e-01\n",
      "   9.49731374e-01  6.66344667e-02  6.18466600e-02  3.44129351e-01\n",
      "   8.49524185e-02  9.61084027e-01  6.08751467e-02  1.00000000e+00]]\n"
     ]
    }
   ],
   "source": [
    "kernel_matrix = kernel.evaluate(XX,Y)\n",
    "\n",
    "print(kernel_matrix)"
   ]
  },
  {
   "cell_type": "code",
   "execution_count": 95,
   "metadata": {},
   "outputs": [
    {
     "name": "stdout",
     "output_type": "stream",
     "text": [
      "0.7\n"
     ]
    },
    {
     "name": "stdout",
     "output_type": "stream",
     "text": [
      "0.7\n"
     ]
    }
   ],
   "source": [
    "#or using directly sklearn SVC\n",
    "\n",
    "from sklearn.svm import SVC\n",
    "\n",
    "svc = SVC(kernel='precomputed')\n",
    "\n",
    "svc.fit(kernel_matrix, Y)\n",
    "\n",
    "svc_score = svc.score(kernel_matrix, Y)\n",
    "\n",
    "print(svc_score)\n",
    "\n",
    "\n",
    "#or using directly sklearn SVC without the kernel matrix\n",
    "\n",
    "svc = SVC(kernel=kernel.evaluate)\n",
    "\n",
    "svc.fit(XX, Y)\n",
    "\n",
    "svc_score = svc.score(XX, Y)\n",
    "\n",
    "print(svc_score)\n",
    "\n"
   ]
  },
  {
   "cell_type": "markdown",
   "metadata": {},
   "source": [
    "## 6 - Caveats <a id=\"caveats\"></a>\n",
    "\n",
    "- Quantum kernels are not guaranteed to outperform classical kernels - classical simulation hardness does not imply usefulness of the encoding in solving a task.\n",
    "- Expressivity of the kernel is important same as in VQC - Trainable kernels (kernel alignment) can be used to improve performance (see [2])\n",
    "- Tradeoff between expressivity and kernel estimation - Vanishing similarity problem similar to barren plateaus in (VQC see [3])\n"
   ]
  },
  {
   "cell_type": "markdown",
   "metadata": {},
   "source": [
    "## 7 - References <a id=\"references\"></a>\n",
    "\n",
    "* [1] - Mohri, Mehryar et al. “Foundations of Machine Learning.” Adaptive computation and machine learning (2012).\n",
    "* [2] - Incudini,M et.al Automatic and effective discovery of quantum kernels https://arxiv.org/abs/2209.11144\n",
    "* [3] - Thanasilp, S et.al Exponential concentration in quantum kernel methods https://arxiv.org/abs/2208.11060"
   ]
  }
 ],
 "metadata": {
  "interpreter": {
   "hash": "62314c999a2395b70c6666201aadb026cfae52075e045b8f587202e06e575832"
  },
  "kernelspec": {
   "display_name": "Python 3.10.1 ('quantum_DS')",
   "language": "python",
   "name": "python3"
  },
  "language_info": {
   "codemirror_mode": {
    "name": "ipython",
    "version": 3
   },
   "file_extension": ".py",
   "mimetype": "text/x-python",
   "name": "python",
   "nbconvert_exporter": "python",
   "pygments_lexer": "ipython3",
   "version": "3.11.5"
  },
  "orig_nbformat": 4
 },
 "nbformat": 4,
 "nbformat_minor": 2
}
