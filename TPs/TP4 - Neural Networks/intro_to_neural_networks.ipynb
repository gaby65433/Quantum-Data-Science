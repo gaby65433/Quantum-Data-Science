{
 "cells": [
  {
   "cell_type": "markdown",
   "id": "80accddc",
   "metadata": {},
   "source": [
    "#### Quantum Data Science 23/24\n",
    "\n",
    "# Lecture 3 - Introduction to Neural Networks with Scikit-Learn\n"
   ]
  },
  {
   "cell_type": "markdown",
   "id": "c42868df",
   "metadata": {},
   "source": [
    "\n",
    "### Table of Contents\n",
    "\n",
    "1. [Shallow Neural Networks](#shallow_neural_networks)\n",
    "    - [Perceptron](#perceptron)\n",
    "    - [Multi-Layer Perceptron](#multi_layer_perceptron)\n",
    "    - [Gradient-based learning](#gradient_based_learning)\n",
    "    - [Interactive Demo: Gradient Descent](#interactive_demo_gradient_descent)\n",
    "    - [Activation Functions](#activation_functions)\n",
    "2. [Deep Neural Networks](#deep_neural_networks)\n",
    "    - [MLPs with multiple layers](#hidden_layers)\n",
    "    - [Backpropagation](#backpropagation)\n",
    "    - [Neural network playground](#neural_network_playground)\n",
    "3. [Simple Neural Network regressor with Scikit-learn](#building_nn)\n",
    "    - [Sklearn overview](#sklearn_overview)\n",
    "    - [Datasets](#dataset_overview)\n",
    "    - [MLPs in sklearn](#mlp_sklearn)\n",
    "    - [Model selection and evaluation](#model_selection_and_evaluation)\n",
    "4. [Hands-On Exercise : MLP classifier for Iris dataset](#hands_on_exercise)\n",
    "\n",
    "5. [Homework](#homework)\n",
    "   \n",
    "6. [References](#references)\n",
    "\n",
    "\n"
   ]
  },
  {
   "cell_type": "markdown",
   "id": "f0aa5023",
   "metadata": {},
   "source": [
    "<a id='shallow_neural_networks'></a>\n",
    "##  1. Shallow Neural Networks   "
   ]
  },
  {
   "cell_type": "markdown",
   "id": "39a498f6",
   "metadata": {},
   "source": [
    "### 1.1 Perceptron <a id='perceptron'></a>"
   ]
  },
  {
   "cell_type": "markdown",
   "id": "d0917d0b",
   "metadata": {},
   "source": [
    "<img title=\"a title\" alt=\"Alt text\" src=\"images/neuron_vs_perceptron.png\">\n",
    "\n",
    "The perceptron is the artificial realization of a biological neuron. It takes a set of inputs, multiplies them by a set of weights, and then passes them through an *heaviside step function*. \n",
    "\n",
    "$$\n",
    "\\begin{equation}\n",
    "    \\hat{y} = \\begin{cases}\n",
    "        1 & \\text{if } \\sum_{i=1}^{n} w_i x_i + b \\geq 0 \\\\\n",
    "        0 & \\text{otherwise}    \n",
    "    \\end{cases}\n",
    "\\end{equation}\n",
    "$$"
   ]
  },
  {
   "cell_type": "markdown",
   "id": "e923d588",
   "metadata": {},
   "source": [
    "### 1.2 Multi Layer Perceptron <a id='mlp'></a>\n",
    "The single perceptron is a linear classifier, which means that it can only classify linearly separable data. Marvin Minsky and Seymour Papert showed in 1969 that a single perceptron cannot learn an XOR function.\n",
    "\n",
    "<img title=\"a title\" alt=\"Alt text\" src=\"images/xor_problem.png\">\n",
    "\n",
    "However, a single perceptron can learn the AND and OR functions. Therefore, it is possible to combine multiple perceptrons to create a multi-layer perceptron (MLP) (illustrated in Figure 13.1 (b) ) that can learn non-linear functions. \n",
    "\n",
    "Image source: [Probabilistic Machine Learning: An Introduction, Kevin P. Murphy](https://probml.github.io/pml-book/book1.html)"
   ]
  },
  {
   "cell_type": "markdown",
   "id": "5e70fe16",
   "metadata": {},
   "source": [
    "### 1.3 Gradient-based learning <a id='gradient_based_learning'></a>\n",
    "\n",
    "Goal: Learn optimal weights $\\theta$ and bias $b$ for a given task. For instance, minimizing the error of our prediction.\n",
    "\n",
    "In a supervised scenario, for instance, a classification task, let $y$ be the true label and $\\hat{y}$ the predicted label coming from our model. We can define the error (*loss*) as the difference between the true label and the predicted label:\n",
    "\n",
    "$$\n",
    "\\begin{equation}\n",
    "    L(\\theta) = (y - \\hat{y})^2\n",
    "\\end{equation}\n",
    "$$\n",
    "\n",
    "Suppose a training set of $M$ samples, we can define the *least squares cost function* as the average loss over all samples:\n",
    "\n",
    "$$\n",
    "\\begin{equation}\n",
    "    C(\\theta) = \\frac{1}{M} \\sum_{i=1}^{M} L(\\theta)\n",
    "\\end{equation}\n",
    "$$\n",
    "\n",
    "Now we minimize the cost function $C(\\theta)$ with respect to the weights $\\theta$ and bias $b$ using standard *gradient descent*, using updates:\n",
    "\n",
    "$$\n",
    "\\begin{equation}\n",
    "    \\theta = \\theta - \\alpha \\nabla C(\\theta)\n",
    "\\end{equation}\n",
    "$$\n",
    "\n",
    "Where $\\alpha$ is the learning rate and $\\nabla C(\\theta)$ is the gradient of the cost function with respect to the weights $\\theta$.\n",
    "\n",
    "**Remember that we need to initialize the parameters at random (but not too random) so that each neuron can learn different features of the input data. Otherwise, every neuron will learn the same function and the network will not be able to learn complex patterns.**"
   ]
  },
  {
   "cell_type": "markdown",
   "id": "5b815532",
   "metadata": {},
   "source": [
    "### 1.4 Interactive demo on gradient descent <a id='interactive_demo_gradient_descent'></a>\n"
   ]
  },
  {
   "cell_type": "code",
   "execution_count": 1,
   "id": "4a42cdda",
   "metadata": {},
   "outputs": [
    {
     "data": {
      "application/vnd.jupyter.widget-view+json": {
       "model_id": "3b5c382c13d84cfeb4b1e958495110b5",
       "version_major": 2,
       "version_minor": 0
      },
      "text/plain": [
       "interactive(children=(FloatSlider(value=0.0, description='Starting Point:', max=10.0, min=-10.0), FloatSlider(…"
      ]
     },
     "metadata": {},
     "output_type": "display_data"
    },
    {
     "data": {
      "text/plain": [
       "<function __main__.plot_gradient_descent(starting_point, learning_rate, show_tangent_only)>"
      ]
     },
     "execution_count": 1,
     "metadata": {},
     "output_type": "execute_result"
    }
   ],
   "source": [
    "import numpy as np\n",
    "import matplotlib.pyplot as plt\n",
    "from ipywidgets import interact, FloatSlider, Checkbox\n",
    "\n",
    "# Define the loss function and its derivative\n",
    "def loss_function(x):\n",
    "    return x ** 2\n",
    "\n",
    "def derivative(x):\n",
    "    return 2 * x\n",
    "\n",
    "# Gradient descent function\n",
    "def gradient_descent(starting_point, learning_rate, num_steps=10):\n",
    "    x = starting_point\n",
    "    path = [x]\n",
    "    for _ in range(num_steps):\n",
    "        grad = derivative(x)\n",
    "        x = x - learning_rate * grad\n",
    "        path.append(x)\n",
    "    return np.array(path)\n",
    "\n",
    "# Function to plot tangent line\n",
    "def plot_tangent_line(ax, x, y, grad):\n",
    "    tangent_line_x = np.array([x - 1, x + 1])\n",
    "    tangent_line_y = y + grad * (tangent_line_x - x)\n",
    "    ax.plot(tangent_line_x, tangent_line_y, color='purple')\n",
    "\n",
    "# Interactive plot function\n",
    "def plot_gradient_descent(starting_point, learning_rate, show_tangent_only):\n",
    "    path = gradient_descent(starting_point, learning_rate)\n",
    "    x_values = np.linspace(-10, 10, 400)\n",
    "    y_values = loss_function(x_values)\n",
    "\n",
    "    plt.figure(figsize=(10, 6))\n",
    "    plt.plot(x_values, y_values, label='Loss Function', color='darkblue')\n",
    "    \n",
    "    if show_tangent_only:\n",
    "        initial_grad = derivative(starting_point)\n",
    "        plot_tangent_line(plt, starting_point, loss_function(starting_point), initial_grad)\n",
    "        plt.scatter(starting_point, loss_function(starting_point), color='purple', label='Starting Point')\n",
    "    else:\n",
    "        plt.scatter(path, loss_function(path), color='purple', label='Gradient Descent Path')\n",
    "        plt.plot(path, loss_function(path), color='purple', linestyle='dashed')\n",
    "    \n",
    "    plt.title(f\"Gradient Descent: Learning Rate {learning_rate}, Starting Point {starting_point}\")\n",
    "    plt.xlabel(\"Parameter Value\")\n",
    "    plt.ylabel(\"Loss\")\n",
    "    plt.legend()\n",
    "    plt.grid(True)\n",
    "    plt.show()\n",
    "\n",
    "# Create interactive controls\n",
    "interact(plot_gradient_descent, \n",
    "         starting_point=FloatSlider(value=0, min=-10, max=10, step=0.1, description='Starting Point:'),\n",
    "         learning_rate=FloatSlider(value=0, min=0.0, max=1.0, step=0.01, description='Learning Rate:'),\n",
    "         show_tangent_only=Checkbox(value=False, description='Show Only Tangent Line'))\n"
   ]
  },
  {
   "cell_type": "markdown",
   "id": "43fe99c3",
   "metadata": {},
   "source": [
    "What is the problem with the heavi-side step function? \n",
    "\n",
    "\n",
    "\n",
    "It is not differentiable. Therefore, we cannot use gradient descent to optimize the weights and bias."
   ]
  },
  {
   "cell_type": "markdown",
   "id": "6745faa5",
   "metadata": {},
   "source": [
    "### 1.5 Activation Functions <a id='activation_functions'></a>\n",
    "\n"
   ]
  },
  {
   "cell_type": "markdown",
   "id": "79a28bba",
   "metadata": {},
   "source": [
    "There are several activation functions , and their use depends on the type of problem you are trying to solve.  The most common activation functions are:\n",
    "- *Sigmoid function*:\n",
    "$$\n",
    "\n",
    "    \\sigma(x) = \\frac{1}{1 + e^{-x}}\n",
    "\n",
    "$$\n",
    "- *Hyperbolical tangent function*:\n",
    "$$\n",
    "    \n",
    "        \\tanh(x) = \\frac{e^{x} - e^{-x}}{e^{x} + e^{-x}}\n",
    "$$\n",
    "- *Rectified Linear Unit (ReLU)*:\n",
    "$$\n",
    "    \n",
    "        \\text{ReLU}(x) = \\max(0, x)\n",
    "$$"
   ]
  },
  {
   "cell_type": "code",
   "execution_count": 2,
   "id": "d74a3e84",
   "metadata": {},
   "outputs": [
    {
     "data": {
      "image/png": "[encoded data removed]",
      "text/plain": [
       "<Figure size 864x576 with 1 Axes>"
      ]
     },
     "metadata": {
      "needs_background": "light"
     },
     "output_type": "display_data"
    }
   ],
   "source": [
    "import numpy as np\n",
    "import matplotlib.pyplot as plt\n",
    "from scipy.stats import norm\n",
    "\n",
    "# Defining the activation functions\n",
    "def sigmoid(x):\n",
    "    return 1 / (1 + np.exp(-x))\n",
    "\n",
    "def relu(x):\n",
    "    return np.maximum(0, x)\n",
    "\n",
    "def tanh(x):\n",
    "    return np.tanh(x)\n",
    "\n",
    "# Generate a range of values\n",
    "x = np.linspace(-10, 10, 300)\n",
    "\n",
    "# Plotting\n",
    "plt.figure(figsize=(12, 8))\n",
    "\n",
    "plt.plot(x, sigmoid(x), label='Sigmoid')\n",
    "plt.plot(x, tanh(x), label='Tanh')\n",
    "plt.plot(x, relu(x), label='ReLU')\n",
    "\n",
    "plt.title('Activation Functions')\n",
    "plt.xlabel('Input value (x)')\n",
    "plt.ylabel('Activation Function Output')\n",
    "#truncate y axis to zoom in on the plot\n",
    "plt.ylim([-1, 1.2])\n",
    "plt.legend()\n",
    "plt.grid(True)\n",
    "plt.show()\n",
    "\n"
   ]
  },
  {
   "cell_type": "markdown",
   "id": "83d30bef",
   "metadata": {},
   "source": [
    "- *Sigmoid function*\n",
    "  - Characteristics: Smooth gradient, output values between 0 and 1. Vanishing gradient problem since the gradient is close to zero for large positive and negative inputs.\n",
    "  - Common Use Cases: binary classification problems.\n",
    "  - **Question**: idea on how useful is the sigmoid activation ? \n",
    "- *Hyperbolic Tangent (tanh) Function*:\n",
    "  - Characteristics: Similar to sigmoid but outputs values between -1 and 1.\n",
    "  - Common Use Cases: Often used in hidden layers of a neural network.\n",
    "- *Rectified Linear Unit (ReLU)*:\n",
    "  - Characteristics: Efficient and simple, output is zero when input is negative. GeLUs and Leaky ReLUs are variations of ReLU that try to provide smoother gradients."
   ]
  },
  {
   "cell_type": "markdown",
   "id": "cc8c839c",
   "metadata": {},
   "source": [
    "<a id='deep_neural_networks'></a>\n",
    "##  2. Deep Neural Networks   "
   ]
  },
  {
   "cell_type": "markdown",
   "id": "78952ba9",
   "metadata": {},
   "source": [
    "### 2.1 MLPs with multiple layers <a id='hidden_layers'></a>\n",
    "\n",
    "Deep Neural networks are neural networks with multiple hidden layers. The hidden layers are the layers between the input and output layers.\n",
    "\n",
    "<img title=\"a title\" alt=\"Alt text\" src=\"images/dnn.png\">\n",
    "\n",
    "The motivation comes from the *universal approximation theorem*: \"The approximation properties of two-layer feed-forward networks were widely studied in the 1980s, with various theorems showing that, for a wide range of activation functions, such networks can approximate any function defined over a continuous subset of $\\mathbb{R}^N$ to arbitrary accuracy. A similar result holds for functions from any finite-dimensional discrete space to any another. Neural networks are therefore said to be *universal approximators*.\" - [Deep Learning: Foundations and concepts, Christopher M. Bishop](https://en.wikipedia.org/wiki/Universal_approximation_theorem)"
   ]
  },
  {
   "cell_type": "markdown",
   "id": "4e35fac0",
   "metadata": {},
   "source": [
    "### 2.2 Backpropagation <a id='backpropagation'></a>\n"
   ]
  },
  {
   "cell_type": "markdown",
   "id": "f84a9cb4",
   "metadata": {},
   "source": [
    "MLP's are efficiently trained using the *backpropagation* algorithm. Backpropagation is one of the main responsibles for the success and scalability of neural networks!\n",
    "\n",
    "Let us assume the computation graph is a simple chain. In this case, backpropagation is equivalent to repeated applications of the chain rule of calculus. The method can be further generalized to arbitrary directed acyclic graphs (DAGs). This general procedure is often called automatic differentiation.\n",
    "\n",
    "<img title=\"a title\" alt=\"Alt text\" src=\"images/backprop.png\">\n",
    "\n"
   ]
  },
  {
   "cell_type": "markdown",
   "id": "78fb6ebb",
   "metadata": {},
   "source": [
    "### 2.3 Neural Network playground <a id='neural_network_playground'></a>\n"
   ]
  },
  {
   "cell_type": "markdown",
   "id": "d446eff6",
   "metadata": {},
   "source": [
    "You can use this website to visualize small networks in action: https://playground.tensorflow.org/\n",
    "\n",
    "<img title=\"a title\" alt=\"Alt text\" src=\"images/neural_network_visualization.png\">\n",
    "\n"
   ]
  },
  {
   "cell_type": "markdown",
   "id": "6dd7067b",
   "metadata": {},
   "source": [
    "## 3. Scikit-learn introduction <a id='sklearn_intro'></a>"
   ]
  },
  {
   "cell_type": "markdown",
   "id": "7de3aa4d",
   "metadata": {},
   "source": [
    "### 3.1 Overview <a id='sklearn_overview'></a>"
   ]
  },
  {
   "cell_type": "markdown",
   "id": "a872c989",
   "metadata": {},
   "source": [
    "Scikit-learn is a Python library for machine learning. It features various classification, regression and clustering algorithms including support vector machines, random forests, gradient boosting, k-means... \n",
    "It is designed to interoperate with the Python numerical and scientific libraries NumPy and SciPy. Website: [Sklearn](https://scikit-learn.org/stable/index.html)\n",
    "\n",
    "Installing scikit-learn: Follow the instructions for your operating system: [installation instructions](https://scikit-learn.org/stable/install.html)\n",
    "\n",
    "\n",
    "Loose yourself in the [user guide](https://scikit-learn.org/stable/user_guide.html)"
   ]
  },
  {
   "cell_type": "code",
   "execution_count": 2,
   "id": "f64da870",
   "metadata": {},
   "outputs": [],
   "source": [
    "#import sklearn\n",
    "import numpy as np\n",
    "import sklearn"
   ]
  },
  {
   "cell_type": "markdown",
   "id": "5231b9de",
   "metadata": {},
   "source": [
    "### 3.2 Data preprocessing <a id='data_preprocessing'></a>\n",
    "*Standardization* of datasets is a common requirement for many machine learning estimators. They might behave badly if the individual features do not more or less look like standard normally distributed data: Gaussian with zero mean and unit variance.\n",
    "\n",
    "*Normalization* is the process of scaling individual samples to have unit norm. \n",
    "\n",
    "check the [preprocessing](https://scikit-learn.org/stable/modules/classes.html#module-sklearn.preprocessing) module.\n",
    "\n",
    "```python\n",
    "from sklearn import preprocessing"
   ]
  },
  {
   "cell_type": "code",
   "execution_count": 9,
   "id": "9e546057",
   "metadata": {},
   "outputs": [
    {
     "name": "stdout",
     "output_type": "stream",
     "text": [
      "original data: \n",
      " [[0.6967962  0.9830345  0.97371387 0.46184197]\n",
      " [0.60635062 0.39722038 0.65017432 0.03635108]\n",
      " [0.41522068 0.56270547 0.44237958 0.33978722]\n",
      " [0.97088964 0.04270775 0.67212    0.09630338]\n",
      " [0.43097083 0.16012024 0.55661524 0.73709914]\n",
      " [0.38110513 0.55818628 0.02768873 0.44616132]\n",
      " [0.14352165 0.92497926 0.26966098 0.14012909]\n",
      " [0.3455535  0.39203721 0.48622137 0.82025112]\n",
      " [0.86393526 0.20310831 0.56106866 0.56859659]\n",
      " [0.76570696 0.68345436 0.39659294 0.48245184]]\n",
      "trasnformed data: \n",
      " [[ 0.54423964  1.65100761  1.96259298  0.19571734]\n",
      " [ 0.17905194 -0.31369802  0.61183877 -1.50571207]\n",
      " [-0.59266404  0.2413065  -0.25568922 -0.29234842]\n",
      " [ 1.65093327 -1.50266385  0.70346039 -1.26597812]\n",
      " [-0.52907042 -1.10888537  0.22123638  1.29640046]\n",
      " [-0.73041071  0.22615003 -1.98699346  0.13301442]\n",
      " [-1.6896899   1.45630172 -0.97677687 -1.09073033]\n",
      " [-0.87395579 -0.33108137 -0.07265293  1.628904  ]\n",
      " [ 1.21908881 -0.96471184  0.23982909  0.6226018 ]\n",
      " [ 0.8224772   0.64627458 -0.44684513  0.27813093]]\n",
      "mean of original data: \n",
      " [0.56200505 0.49075538 0.50362357 0.41289727]\n",
      "variance of original data: \n",
      " [0.06133981 0.08890469 0.05737228 0.06253925]\n",
      "mean of transformed data: \n",
      " [ 9.99200722e-17 -1.44328993e-16 -1.22124533e-16  2.22044605e-17]\n",
      "variance of transformed data: \n",
      " [1. 1. 1. 1.]\n"
     ]
    }
   ],
   "source": [
    "from sklearn import preprocessing\n",
    "\n",
    "#random dataset of 4 features and 10 samples\n",
    "n_features = 4\n",
    "n_samples = 10\n",
    "X_train = np.random.rand(n_samples, n_features)\n",
    "\n",
    "#scaler\n",
    "scaler = preprocessing.StandardScaler().fit(X_train)\n",
    "\n",
    "#apply transformation to data\n",
    "X_scaled = scaler.transform(X_train)\n",
    "\n",
    "print(\"original data: \\n\",X_train)\n",
    "print(\"trasnformed data: \\n\", X_scaled)\n",
    "\n",
    "#mean and variance of original data\n",
    "print(\"mean of original data: \\n\", X_train.mean(axis=0))\n",
    "print(\"variance of original data: \\n\", X_train.var(axis=0))\n",
    "\n",
    "#mean and variance of transformed data\n",
    "print(\"mean of transformed data: \\n\", X_scaled.mean(axis=0))\n",
    "print(\"variance of transformed data: \\n\", X_scaled.var(axis=0))"
   ]
  },
  {
   "cell_type": "markdown",
   "id": "3cb47065",
   "metadata": {},
   "source": [
    "Alternatively, you can scale features in a given range [a,b] using the MinMaxScaler:\n",
    "\n",
    "```python\n",
    "from sklearn.preprocessing import MinMaxScaler\n"
   ]
  },
  {
   "cell_type": "code",
   "execution_count": 4,
   "id": "87be8377",
   "metadata": {},
   "outputs": [
    {
     "name": "stdout",
     "output_type": "stream",
     "text": [
      "original data: \n",
      " [[0.88746533 0.81186845 0.76020303 0.95805825]\n",
      " [0.74253203 0.62352336 0.80595716 0.28880552]\n",
      " [0.87303822 0.04883354 0.57791005 0.71388215]\n",
      " [0.0574795  0.50720006 0.16090553 0.64447413]\n",
      " [0.8947581  0.62973133 0.14428682 0.32127756]\n",
      " [0.5378858  0.39523687 0.93273903 0.31642852]\n",
      " [0.32747305 0.07829118 0.54152588 0.42146742]\n",
      " [0.01664299 0.00258881 0.96397896 0.93274262]\n",
      " [0.95013085 0.58008159 0.18913903 0.99608573]\n",
      " [0.63589594 0.25737672 0.167832   0.75685452]]\n",
      "trasnformed data: \n",
      " [[0.93286948 1.         0.75139943 0.9462342 ]\n",
      " [0.77760951 0.76726823 0.8072181  0.        ]\n",
      " [0.91741443 0.05714308 0.52900742 0.60100173]\n",
      " [0.04374616 0.62353138 0.02027433 0.50286803]\n",
      " [0.94068187 0.7749392  0.         0.04591114]\n",
      " [0.55838199 0.48518217 0.96188822 0.03905525]\n",
      " [0.33297708 0.0935429  0.48461982 0.18756625]\n",
      " [0.         0.         1.         0.91044127]\n",
      " [1.         0.71358866 0.05471836 1.        ]\n",
      " [0.66337547 0.31483297 0.02872441 0.66175894]]\n"
     ]
    }
   ],
   "source": [
    "#random dataset of 4 features and 10 samples\n",
    "n_features = 4\n",
    "n_samples = 10\n",
    "X_train = np.random.rand(n_samples, n_features)\n",
    "\n",
    "#scaler\n",
    "min_max_scaler = preprocessing.MinMaxScaler(feature_range=(0, 1))\n",
    "\n",
    "#apply transformation to data\n",
    "X_train_minmax = min_max_scaler.fit_transform(X_train)\n",
    "\n",
    "print(\"original data: \\n\",X_train)\n",
    "print(\"trasnformed data: \\n\", X_train_minmax)"
   ]
  },
  {
   "cell_type": "markdown",
   "id": "e9e00ad7",
   "metadata": {},
   "source": [
    "The function **normalize** provides a quick and easy way to perform this operation on a single array-like dataset, either using the l1, l2, or max norms"
   ]
  },
  {
   "cell_type": "code",
   "execution_count": 11,
   "id": "4762e317",
   "metadata": {},
   "outputs": [
    {
     "name": "stdout",
     "output_type": "stream",
     "text": [
      "original data: \n",
      " [[-0.25986847  1.09801768  1.91980756  0.44627869]\n",
      " [ 2.55668073  3.06021569  2.28062877  0.58261173]\n",
      " [ 0.1205441   1.22106872 -2.65867043 -1.60716271]\n",
      " [ 0.64745154  1.05312297 -1.9163402   0.9137226 ]\n",
      " [-1.42281628 -2.08509465 -1.76787675 -1.38927383]\n",
      " [ 2.77703145 -1.09003378 -0.80669336  0.14826045]\n",
      " [ 1.59659666  1.96927966 -0.65769238 -2.75204618]\n",
      " [ 2.35306286 -2.96872801 -2.98110205 -0.39321877]\n",
      " [ 1.62447859 -1.88889617 -1.10607002 -2.66839648]\n",
      " [ 0.06853419 -1.04884866 -2.69144847  1.38311298]\n",
      " [ 2.34520005  0.54088855  1.87337142  2.64901101]\n",
      " [ 2.91309489 -2.28004772 -0.56481587 -2.08893183]\n",
      " [ 0.61369281  0.02243291  1.84213464 -2.50726955]\n",
      " [ 0.5867722   2.34269023 -2.93127732 -0.69479086]\n",
      " [ 1.41474508  2.51905719 -0.26199395  1.20080115]\n",
      " [-0.93821204  0.40424025 -2.22375055 -2.76057471]\n",
      " [ 0.66873611  0.56057542 -2.30246885  0.33773781]\n",
      " [ 1.38195757 -0.29760399  2.5445208   2.90538248]\n",
      " [-1.71460771 -1.17478633  0.91628934 -3.12883266]\n",
      " [-0.04163257 -0.49451495 -2.13748021  0.46158394]\n",
      " [ 1.39248176  1.93077326  2.00788537 -2.33202972]\n",
      " [ 2.58008522  2.48771162 -1.37517887 -0.20546368]\n",
      " [-0.97569756 -1.40923136  1.88525987  2.17109526]\n",
      " [-0.9692233  -0.0468663  -2.71113723  2.02223397]\n",
      " [-0.07273687  2.9770635   1.35826214  1.97651972]\n",
      " [ 2.87959854 -2.17205252  3.06916594 -0.84669725]\n",
      " [ 1.21298896 -2.4275034   1.95428173 -0.39279889]\n",
      " [ 0.46345774  0.67781585  0.25944357  1.18104512]\n",
      " [ 0.49844323 -2.78883802 -1.99027585  3.07706486]\n",
      " [ 2.379398   -3.10329174  3.08989528 -2.29697862]\n",
      " [ 1.1179285   0.89390158 -0.57130828 -1.35901275]\n",
      " [-2.56766127  0.36012085  2.38956092 -2.67077849]\n",
      " [-2.87075182 -1.65024008 -2.01131092 -0.24219925]\n",
      " [ 2.30856143 -1.80672045  3.00956343 -1.96216749]\n",
      " [ 1.66926933  1.68068584 -1.38545897  0.9701218 ]\n",
      " [-1.95365043 -1.03966035  1.47939776  1.97902379]\n",
      " [ 0.99899787  2.82389128  0.57558892  0.87063526]\n",
      " [-1.87177801 -0.24080005  1.52926868  1.19132059]\n",
      " [-2.86562274 -1.26914556 -1.0500864   1.37538518]\n",
      " [-0.0331628  -2.80465012  0.50139924  0.15128097]\n",
      " [-0.90944289 -1.07997547 -2.76489514 -1.54599746]\n",
      " [ 2.03253043 -2.66930029 -2.31061209 -1.1627708 ]\n",
      " [-0.85956602 -0.2001932   2.58851826 -1.88279731]\n",
      " [-1.63660801  0.37753233  0.68820348  1.80890121]\n",
      " [ 1.48936527  2.41302636  1.62208115 -1.61567402]\n",
      " [-2.92366101 -0.33164149  2.77854991  0.86293162]\n",
      " [-1.83976616  1.22665596  2.38012649 -1.97170843]\n",
      " [ 0.63802229 -2.38629777  1.89740746  3.00401215]\n",
      " [-0.42329962  2.32143498  2.49799417 -3.04550656]\n",
      " [ 1.29105021 -0.91618396 -1.61745964 -2.64127632]\n",
      " [-2.22223199  2.60688725  1.26575277 -2.64911378]\n",
      " [ 1.43216057  1.3596394  -0.81920653  0.63821276]\n",
      " [ 2.33032502 -1.00261594 -0.58338102  1.69791111]\n",
      " [ 0.90417883 -1.73294731 -2.67773244 -0.50898384]\n",
      " [ 1.08917234  2.78740916 -2.18125497 -0.99164064]\n",
      " [ 2.12609602 -1.24588642 -0.10299976  0.77883112]\n",
      " [ 2.28060041 -3.06661411 -1.20941389 -0.32626123]\n",
      " [ 1.73938776 -1.89920297 -1.18653442  0.9468284 ]\n",
      " [-3.06300535 -2.9236243   1.69085526  2.56548923]\n",
      " [-0.76351856  2.70504683  1.42199387 -2.02898296]\n",
      " [ 3.12734331  1.71138284  0.87079035 -0.43346114]\n",
      " [-1.24540216  0.60942567 -2.5787677   2.18708466]\n",
      " [-2.54196247 -3.02172668  1.30627837  2.69027678]\n",
      " [-1.6465753   1.31524744  2.75045255 -1.5185205 ]\n",
      " [-0.66609287 -1.37447252  0.15075273  0.13423363]\n",
      " [-1.60502893  1.5886185   2.2087945   0.80474421]\n",
      " [-0.19729664 -1.52714401 -2.97291768 -2.64779066]\n",
      " [-2.77774775 -1.3804011   1.19514789 -0.76764848]\n",
      " [ 0.81985105 -2.26604453  0.61545001  1.21350142]\n",
      " [-0.47966348 -0.17573769  1.91318719  3.01061266]\n",
      " [ 0.32017045  1.61172    -2.82381284  3.05817581]\n",
      " [-2.27075459 -0.28145399 -2.37550852 -1.15150723]\n",
      " [-1.60739239  0.47616739 -0.09135188 -1.82917218]\n",
      " [ 0.66339438 -0.64048212 -1.8599241   0.17856681]\n",
      " [ 3.12783744  0.99153923  1.20261349 -1.24739049]\n",
      " [-0.56860951 -0.59169498  0.45077128  2.15480933]\n",
      " [ 0.43782749  0.23304917 -0.17410772  2.89167578]\n",
      " [-0.50040783 -2.08217035 -1.55961617 -2.00743748]\n",
      " [-0.9476338   2.87930544 -1.60917673 -2.51796536]\n",
      " [-0.18131891 -0.14833381  1.82611282 -1.57064477]\n",
      " [-0.70475669  2.49680407  0.53447285 -0.9793047 ]\n",
      " [-1.26823619  2.57971898 -2.13520849 -0.47440036]\n",
      " [-2.7899984  -1.42837362  0.15605641 -2.67897781]\n",
      " [ 2.90872404 -3.07393869 -2.85410962 -0.62025695]\n",
      " [-0.26517742  1.69185623  1.19489925 -0.85329983]\n",
      " [-2.50656925 -0.72988468 -1.43323719 -0.65460849]\n",
      " [-1.76660653 -2.95933684  2.11512744 -3.04077413]\n",
      " [ 3.11215877  1.94117308 -0.82773829 -1.63009082]\n",
      " [-1.34309046 -2.30177893  2.75509666  1.71078626]\n",
      " [-2.73671304  1.05983743  1.06484525 -1.41767236]\n",
      " [ 1.00913539  2.21809123 -1.72560163 -1.6125797 ]\n",
      " [ 2.40371675  2.94883373 -0.12650316 -1.09013327]\n",
      " [-1.13349033 -1.95062186 -2.69630134  0.75472364]\n",
      " [ 1.35608656 -2.78443241  0.02907774 -1.94377396]\n",
      " [ 0.08144128  1.84305352  0.03022437  0.34223503]\n",
      " [-0.89535419 -2.51119698 -2.64444945  1.88397699]\n",
      " [-1.98042031  0.79721569 -2.89538876  0.04191943]\n",
      " [ 2.53811871  0.41740759 -0.42483069 -2.28518679]\n",
      " [ 0.88481992 -2.41355341  0.79779396 -2.57999934]\n",
      " [-1.36200496  0.73942989 -1.19264371 -1.18719569]]\n",
      "trasnformed data: \n",
      " [[-0.11442289  0.48346903  0.84531197  0.19650132]\n",
      " [ 0.55213009  0.6608714   0.49251506  0.1258184 ]\n",
      " [ 0.03608872  0.36556584 -0.79595774 -0.48115538]\n",
      " [ 0.26354227  0.42866901 -0.78003774  0.37192671]\n",
      " [-0.42089454 -0.61680834 -0.5229696  -0.41097208]\n",
      " [ 0.89755489 -0.35230611 -0.26072862  0.04791876]\n",
      " [ 0.4202516   0.51834815 -0.17311591 -0.72438572]\n",
      " [ 0.4865207  -0.613816   -0.61637447 -0.08130215]\n",
      " [ 0.42586671 -0.49518534 -0.28996282 -0.69953598]\n",
      " [ 0.0213943  -0.32741884 -0.84018883  0.43176605]\n",
      " [ 0.5805359   0.13389272  0.46373842  0.65574193]\n",
      " [ 0.6797213  -0.53201047 -0.13179021 -0.48741682]\n",
      " [ 0.19351614  0.00707378  0.58088146 -0.79061887]\n",
      " [ 0.15197263  0.60675129 -0.75919397 -0.17994921]\n",
      " [ 0.45059879  0.80232413 -0.08344553  0.38245727]\n",
      " [-0.25431973  0.1095768  -0.60278873 -0.74830485]\n",
      " [ 0.26907299  0.2255534  -0.9264225   0.13589235]\n",
      " [ 0.3360229  -0.07236239  0.61870007  0.70644357]\n",
      " [-0.44346163 -0.30384365  0.23698667 -0.80923306]\n",
      " [-0.01856644 -0.22053367 -0.95322971  0.20584777]\n",
      " [ 0.35790821  0.49626474  0.51608479 -0.59939929]\n",
      " [ 0.67114023  0.64711171 -0.35771604 -0.05344589]\n",
      " [-0.29147023 -0.42097983  0.56318388  0.64857151]\n",
      " [-0.27544886 -0.01331919 -0.77049288  0.57470971]\n",
      " [-0.01902328  0.7786079   0.35523382  0.51693015]\n",
      " [ 0.59853365 -0.45146797  0.63793583 -0.1759887 ]\n",
      " [ 0.36024324 -0.72093953  0.58039835 -0.11665658]\n",
      " [ 0.31707956  0.46373495  0.17750109  0.80802463]\n",
      " [ 0.10760823 -0.60207843 -0.42967793  0.66430333]\n",
      " [ 0.43358268 -0.56549326  0.56305211 -0.41856391]\n",
      " [ 0.5440616   0.43503455 -0.27803826 -0.66138993]\n",
      " [-0.58048474  0.08141442  0.54022065 -0.60379699]\n",
      " [-0.73953725 -0.42512    -0.51813582 -0.06239319]\n",
      " [ 0.49786248 -0.38963586  0.64904    -0.42315945]\n",
      " [ 0.57350687  0.57742921 -0.47599882  0.33330242]\n",
      " [-0.58897291 -0.31342955  0.44599852  0.59662229]\n",
      " [ 0.31494128  0.89025209  0.18145856  0.27447404]\n",
      " [-0.69185529 -0.08900564  0.5652554   0.44034145]\n",
      " [-0.80043798 -0.35450316 -0.29331462  0.38417846]\n",
      " [-0.01162252 -0.98294186  0.1757247   0.05301923]\n",
      " [-0.26222576 -0.31139656 -0.79722073 -0.4457678 ]\n",
      " [ 0.47977476 -0.63008302 -0.54541538 -0.27446973]\n",
      " [-0.25888331 -0.06029401  0.77960757 -0.56705918]\n",
      " [-0.6386589   0.14732568  0.2685599   0.70589343]\n",
      " [ 0.40865992  0.66209894  0.44507521 -0.44331718]\n",
      " [-0.70654528 -0.080146    0.67147707  0.20854   ]\n",
      " [-0.48411445  0.32278117  0.62630439 -0.51883362]\n",
      " [ 0.14744038 -0.55144883  0.43847131  0.69419625]\n",
      " [-0.09218883  0.50557657  0.54402873 -0.66326939]\n",
      " [ 0.37117047 -0.2633983  -0.46501155 -0.75935372]\n",
      " [-0.49256476  0.57782482  0.28055811 -0.58718446]\n",
      " [ 0.64188779  0.60938414 -0.36716461  0.28604403]\n",
      " [ 0.74981291 -0.32260494 -0.18771056  0.54632536]\n",
      " [ 0.26957451 -0.51666595 -0.79834694 -0.15174992]\n",
      " [ 0.28410556  0.72708277 -0.56897026 -0.25866487]\n",
      " [ 0.82201439 -0.48169817 -0.03982289  0.30112017]\n",
      " [ 0.56706816 -0.76250938 -0.3007191  -0.08112441]\n",
      " [ 0.58184277 -0.63530257 -0.39690774  0.31672366]\n",
      " [-0.58547441 -0.55883259  0.32319646  0.4903773 ]\n",
      " [-0.20377472  0.72194731  0.37951456 -0.54151329]\n",
      " [ 0.84630203  0.46312369  0.23564782 -0.11730054]\n",
      " [-0.34078033  0.16675761 -0.70563016  0.59845363]\n",
      " [-0.51317334 -0.61002851  0.26371248  0.54311515]\n",
      " [-0.43524294  0.34766231  0.72703329 -0.40139393]\n",
      " [-0.43234563 -0.89213862  0.09785014  0.08712797]\n",
      " [-0.49237229  0.48733809  0.67758854  0.24687016]\n",
      " [-0.04622149 -0.35777028 -0.6964776  -0.62030876]\n",
      " [-0.81420543 -0.4046192   0.35031831 -0.22501091]\n",
      " [ 0.29625366 -0.81883652  0.22239322  0.43849945]\n",
      " [-0.13311135 -0.04876894  0.53092834  0.83547475]\n",
      " [ 0.07154489  0.36015295 -0.63100571  0.68337616]\n",
      " [-0.64999389 -0.08056501 -0.67997926 -0.32961407]\n",
      " [-0.64739193  0.19178075 -0.0367928  -0.73671577]\n",
      " [ 0.31838399 -0.30738767 -0.89263654  0.08569987]\n",
      " [ 0.84293959  0.26721583  0.32409949 -0.33616671]\n",
      " [-0.24202027 -0.25184627  0.19186417  0.9171629 ]\n",
      " [ 0.14896826  0.07929362 -0.05923914  0.98387586]\n",
      " [-0.15055019 -0.62643131 -0.46921829 -0.60394756]\n",
      " [-0.22263083  0.67644502 -0.37804936 -0.59155416]\n",
      " [-0.07492458 -0.06129448  0.75458612 -0.64902164]\n",
      " [-0.24955292  0.88411328  0.18925576 -0.34676982]\n",
      " [-0.35110398  0.71418054 -0.59112034 -0.13133504]\n",
      " [-0.67616473 -0.34617076  0.03782075 -0.64925854]\n",
      " [ 0.56567661 -0.59780687 -0.55505542 -0.120625  ]\n",
      " [-0.11755398  0.75000514  0.52970256 -0.37827047]\n",
      " [-0.82201148 -0.23936046 -0.47001989 -0.21467418]\n",
      " [-0.34916552 -0.58490578  0.41804983 -0.60100167]\n",
      " [ 0.75937868  0.47365368 -0.20197132 -0.39774841]\n",
      " [-0.3199701  -0.54836249  0.65635828  0.40756782]\n",
      " [-0.79815902  0.30910029  0.31056082 -0.41346241]\n",
      " [ 0.29736587  0.65361361 -0.50848978 -0.47518516]\n",
      " [ 0.60707142  0.7447436  -0.03194904 -0.27531894]\n",
      " [-0.3152311  -0.54248074 -0.7498591   0.2098936 ]\n",
      " [ 0.37085423 -0.76146949  0.007952   -0.53157137]\n",
      " [ 0.043399    0.98213917  0.01610617  0.18237258]\n",
      " [-0.21311765 -0.59773038 -0.62944794  0.44843566]\n",
      " [-0.55048534  0.22159718 -0.80481353  0.01165209]\n",
      " [ 0.73211741  0.12040074 -0.12254192 -0.65915949]\n",
      " [ 0.2373185  -0.64734174  0.21397717 -0.69198438]\n",
      " [-0.59535566  0.32321745 -0.52132496 -0.51894354]]\n"
     ]
    }
   ],
   "source": [
    "n_features = 4\n",
    "n_samples = 100\n",
    "X_train = np.random.uniform(low=-np.pi, high=np.pi, size=(n_samples, n_features))\n",
    "\n",
    "X_normalized = preprocessing.normalize(X_train, norm='l2')\n",
    "\n",
    "print(\"original data: \\n\",X_train)\n",
    "print(\"trasnformed data: \\n\", X_normalized)"
   ]
  },
  {
   "cell_type": "code",
   "execution_count": 12,
   "id": "98d5e590",
   "metadata": {},
   "outputs": [
    {
     "data": {
      "text/plain": [
       "[<matplotlib.lines.Line2D at 0x26d535bb5d0>]"
      ]
     },
     "execution_count": 12,
     "metadata": {},
     "output_type": "execute_result"
    },
    {
     "data": {
      "image/png": "[encoded data removed]",
      "text/plain": [
       "<Figure size 640x480 with 1 Axes>"
      ]
     },
     "metadata": {},
     "output_type": "display_data"
    }
   ],
   "source": [
    "import matplotlib.pyplot as plt\n",
    "\n",
    "plt.plot(X_train[:,0], X_train[:,1], 'o', label='Original data', markersize=10)\n",
    "plt.plot(X_normalized[:,0], X_normalized[:,1], '^', label='Normalized data', markersize=10)"
   ]
  },
  {
   "cell_type": "markdown",
   "id": "03dec3c8",
   "metadata": {},
   "source": [
    "### 3.3 Datasets  <a id='datasets'></a>\n"
   ]
  },
  {
   "cell_type": "markdown",
   "id": "945a1cca",
   "metadata": {},
   "source": [
    "Scikit-learn provides a set of small standard datasets that are useful for quickly demonstrating the behavior of the various algorithms implemented in the library. They are documented in the Datasets section [Sklearn datasets](https://scikit-learn.org/stable/modules/classes.html#module-sklearn.datasets)\n",
    "\n",
    "You can even make you artificial datasets using the make_* functions [make random datasets sklearn](https://scikit-learn.org/stable/modules/classes.html#samples-generator)\n"
   ]
  },
  {
   "cell_type": "code",
   "execution_count": 2,
   "id": "9a241878",
   "metadata": {},
   "outputs": [
    {
     "ename": "ValueError",
     "evalue": "Number of informative, redundant and repeated features must sum to less than the number of total features",
     "output_type": "error",
     "traceback": [
      "\u001b[1;31m---------------------------------------------------------------------------\u001b[0m",
      "\u001b[1;31mValueError\u001b[0m                                Traceback (most recent call last)",
      "Cell \u001b[1;32mIn[2], line 9\u001b[0m\n\u001b[0;32m      5\u001b[0m n_classes \u001b[38;5;241m=\u001b[39m \u001b[38;5;241m2\u001b[39m\n\u001b[0;32m      7\u001b[0m \u001b[38;5;66;03m#make classification dataset acn be used to generate a random dataset for classification problem with n_classes [0,1,..,n_classes-1]\u001b[39;00m\n\u001b[1;32m----> 9\u001b[0m X, y \u001b[38;5;241m=\u001b[39m \u001b[43mmake_classification\u001b[49m\u001b[43m(\u001b[49m\u001b[43mn_features\u001b[49m\u001b[38;5;241;43m=\u001b[39;49m\u001b[43mn_features\u001b[49m\u001b[43m,\u001b[49m\u001b[43m \u001b[49m\u001b[43mn_samples\u001b[49m\u001b[38;5;241;43m=\u001b[39;49m\u001b[43mn_samples\u001b[49m\u001b[43m,\u001b[49m\u001b[43m \u001b[49m\u001b[43mn_classes\u001b[49m\u001b[38;5;241;43m=\u001b[39;49m\u001b[43mn_classes\u001b[49m\u001b[43m)\u001b[49m\n\u001b[0;32m     11\u001b[0m \u001b[38;5;28mprint\u001b[39m(\u001b[38;5;124m\"\u001b[39m\u001b[38;5;124mX: \u001b[39m\u001b[38;5;124m\"\u001b[39m, X)\n\u001b[0;32m     12\u001b[0m \u001b[38;5;28mprint\u001b[39m(\u001b[38;5;124m\"\u001b[39m\u001b[38;5;124my: \u001b[39m\u001b[38;5;124m\"\u001b[39m, y)\n",
      "File \u001b[1;32mc:\\Users\\gabri\\AppData\\Local\\Programs\\Python\\Python311\\Lib\\site-packages\\sklearn\\utils\\_param_validation.py:211\u001b[0m, in \u001b[0;36mvalidate_params.<locals>.decorator.<locals>.wrapper\u001b[1;34m(*args, **kwargs)\u001b[0m\n\u001b[0;32m    205\u001b[0m \u001b[38;5;28;01mtry\u001b[39;00m:\n\u001b[0;32m    206\u001b[0m     \u001b[38;5;28;01mwith\u001b[39;00m config_context(\n\u001b[0;32m    207\u001b[0m         skip_parameter_validation\u001b[38;5;241m=\u001b[39m(\n\u001b[0;32m    208\u001b[0m             prefer_skip_nested_validation \u001b[38;5;129;01mor\u001b[39;00m global_skip_validation\n\u001b[0;32m    209\u001b[0m         )\n\u001b[0;32m    210\u001b[0m     ):\n\u001b[1;32m--> 211\u001b[0m         \u001b[38;5;28;01mreturn\u001b[39;00m \u001b[43mfunc\u001b[49m\u001b[43m(\u001b[49m\u001b[38;5;241;43m*\u001b[39;49m\u001b[43margs\u001b[49m\u001b[43m,\u001b[49m\u001b[43m \u001b[49m\u001b[38;5;241;43m*\u001b[39;49m\u001b[38;5;241;43m*\u001b[39;49m\u001b[43mkwargs\u001b[49m\u001b[43m)\u001b[49m\n\u001b[0;32m    212\u001b[0m \u001b[38;5;28;01mexcept\u001b[39;00m InvalidParameterError \u001b[38;5;28;01mas\u001b[39;00m e:\n\u001b[0;32m    213\u001b[0m     \u001b[38;5;66;03m# When the function is just a wrapper around an estimator, we allow\u001b[39;00m\n\u001b[0;32m    214\u001b[0m     \u001b[38;5;66;03m# the function to delegate validation to the estimator, but we replace\u001b[39;00m\n\u001b[0;32m    215\u001b[0m     \u001b[38;5;66;03m# the name of the estimator by the name of the function in the error\u001b[39;00m\n\u001b[0;32m    216\u001b[0m     \u001b[38;5;66;03m# message to avoid confusion.\u001b[39;00m\n\u001b[0;32m    217\u001b[0m     msg \u001b[38;5;241m=\u001b[39m re\u001b[38;5;241m.\u001b[39msub(\n\u001b[0;32m    218\u001b[0m         \u001b[38;5;124mr\u001b[39m\u001b[38;5;124m\"\u001b[39m\u001b[38;5;124mparameter of \u001b[39m\u001b[38;5;124m\\\u001b[39m\u001b[38;5;124mw+ must be\u001b[39m\u001b[38;5;124m\"\u001b[39m,\n\u001b[0;32m    219\u001b[0m         \u001b[38;5;124mf\u001b[39m\u001b[38;5;124m\"\u001b[39m\u001b[38;5;124mparameter of \u001b[39m\u001b[38;5;132;01m{\u001b[39;00mfunc\u001b[38;5;241m.\u001b[39m\u001b[38;5;18m__qualname__\u001b[39m\u001b[38;5;132;01m}\u001b[39;00m\u001b[38;5;124m must be\u001b[39m\u001b[38;5;124m\"\u001b[39m,\n\u001b[0;32m    220\u001b[0m         \u001b[38;5;28mstr\u001b[39m(e),\n\u001b[0;32m    221\u001b[0m     )\n",
      "File \u001b[1;32mc:\\Users\\gabri\\AppData\\Local\\Programs\\Python\\Python311\\Lib\\site-packages\\sklearn\\datasets\\_samples_generator.py:200\u001b[0m, in \u001b[0;36mmake_classification\u001b[1;34m(n_samples, n_features, n_informative, n_redundant, n_repeated, n_classes, n_clusters_per_class, weights, flip_y, class_sep, hypercube, shift, scale, shuffle, random_state)\u001b[0m\n\u001b[0;32m    198\u001b[0m \u001b[38;5;66;03m# Count features, clusters and samples\u001b[39;00m\n\u001b[0;32m    199\u001b[0m \u001b[38;5;28;01mif\u001b[39;00m n_informative \u001b[38;5;241m+\u001b[39m n_redundant \u001b[38;5;241m+\u001b[39m n_repeated \u001b[38;5;241m>\u001b[39m n_features:\n\u001b[1;32m--> 200\u001b[0m     \u001b[38;5;28;01mraise\u001b[39;00m \u001b[38;5;167;01mValueError\u001b[39;00m(\n\u001b[0;32m    201\u001b[0m         \u001b[38;5;124m\"\u001b[39m\u001b[38;5;124mNumber of informative, redundant and repeated \u001b[39m\u001b[38;5;124m\"\u001b[39m\n\u001b[0;32m    202\u001b[0m         \u001b[38;5;124m\"\u001b[39m\u001b[38;5;124mfeatures must sum to less than the number of total\u001b[39m\u001b[38;5;124m\"\u001b[39m\n\u001b[0;32m    203\u001b[0m         \u001b[38;5;124m\"\u001b[39m\u001b[38;5;124m features\u001b[39m\u001b[38;5;124m\"\u001b[39m\n\u001b[0;32m    204\u001b[0m     )\n\u001b[0;32m    205\u001b[0m \u001b[38;5;66;03m# Use log2 to avoid overflow errors\u001b[39;00m\n\u001b[0;32m    206\u001b[0m \u001b[38;5;28;01mif\u001b[39;00m n_informative \u001b[38;5;241m<\u001b[39m np\u001b[38;5;241m.\u001b[39mlog2(n_classes \u001b[38;5;241m*\u001b[39m n_clusters_per_class):\n",
      "\u001b[1;31mValueError\u001b[0m: Number of informative, redundant and repeated features must sum to less than the number of total features"
     ]
    }
   ],
   "source": [
    "from sklearn.datasets import make_classification\n",
    "\n",
    "n_features = 4\n",
    "n_samples = 100\n",
    "n_classes = 2\n",
    "\n",
    "#make classification dataset acn be used to generate a random dataset for classification problem with n_classes [0,1,..,n_classes-1]\n",
    "\n",
    "X, y = make_classification(n_features=n_features, n_samples=n_samples, n_classes=n_classes)\n",
    "\n",
    "print(\"X: \", X)\n",
    "print(\"y: \", y)"
   ]
  },
  {
   "cell_type": "markdown",
   "id": "b534c481",
   "metadata": {},
   "source": [
    "Recall that data should be split into training and test sets. \n",
    "\n",
    "Sklearn provides a [train_test_split](https://scikit-learn.org/stable/modules/generated/sklearn.model_selection.train_test_split.html) function to do this."
   ]
  },
  {
   "cell_type": "code",
   "execution_count": 14,
   "id": "5b9159de",
   "metadata": {},
   "outputs": [
    {
     "name": "stdout",
     "output_type": "stream",
     "text": [
      "X_train shape:  (70, 4)\n",
      "X_test shape:  (30, 4)\n",
      "y_train shape:  (70,)\n",
      "y_test shape:  (30,)\n"
     ]
    }
   ],
   "source": [
    "from sklearn.model_selection import train_test_split\n",
    "\n",
    "# 0.7 / 0.3 train-test random split\n",
    "X_train, X_test, y_train, y_test = train_test_split(\n",
    "    X, y, test_size=0.3)\n",
    "\n",
    "print(\"X_train shape: \", X_train.shape)\n",
    "print(\"X_test shape: \", X_test.shape)\n",
    "print(\"y_train shape: \", y_train.shape)\n",
    "print(\"y_test shape: \", y_test.shape)"
   ]
  },
  {
   "cell_type": "markdown",
   "id": "94a9881d",
   "metadata": {},
   "source": [
    "### 3.4 MLPs in sklearn <a id=\"mlp_sklearn\"></a>\n",
    "\n",
    "Sklearn provides Multi-layer Perceptrons for classification and regression tasks. \n",
    "\n",
    "*Classification* - Class MLPClassifier implements a multi-layer perceptron (MLP) algorithm that trains using Backpropagation. You can define number of layers, number of neurons per layer, activation function, solver, learning rate, regularization, etc. [MLPClassifier](https://scikit-learn.org/stable/modules/generated/sklearn.neural_network.MLPClassifier.html#sklearn.neural_network.MLPClassifier). The cost-function, however, is based on the *cross-entropy loss function*. For n_classes=2 :\n",
    "\n",
    "$$\n",
    "\\begin{equation}\n",
    "    C(\\theta) = - \\frac{1}{M} \\sum_{i=1}^{M} \\left[ y_i \\log(\\hat{y}_i) + (1 - y_i) \\log(1 - \\hat{y}_i) \\right]\n",
    "\\end{equation}\n",
    "$$\n",
    "\n",
    "where $y_i$ is the true label and $\\hat{y}_i$ the predicted probability for sample $i$.\n",
    "\n",
    "It supports multi-class classification by replacing sigmoid with a **Softmax activation** at the output layer.\n",
    "\n",
    "*Regression* - Class MLPRegressor implements a multi-layer perceptron (MLP) that trains using backpropagation with no activation function in the output layer, which can also be seen as using the identity function as activation function. Therefore, it uses the square error as the loss function, and the output is a set of continuous values. [MLPRegressor](https://scikit-learn.org/stable/modules/generated/sklearn.neural_network.MLPRegressor.html#sklearn.neural_network.MLPRegressor)"
   ]
  },
  {
   "cell_type": "code",
   "execution_count": 89,
   "id": "f76d00c1",
   "metadata": {},
   "outputs": [],
   "source": [
    "n_features = 4\n",
    "n_samples = 100\n",
    "n_classes = 2\n",
    "\n",
    "#make classification dataset \n",
    "X, y = make_classification(n_features=n_features, n_samples=n_samples, n_classes=n_classes)\n",
    "\n",
    "X = preprocessing.normalize(X, norm='l2')\n",
    "\n",
    "#split dataset\n",
    "X_train, X_test, y_train, y_test = train_test_split(\n",
    "    X, y, test_size=0.3)"
   ]
  },
  {
   "cell_type": "markdown",
   "id": "4db6d1ee",
   "metadata": {},
   "source": [
    "### With 1 hidden layer with size 1"
   ]
  },
  {
   "cell_type": "code",
   "execution_count": 90,
   "id": "87cf1fc2",
   "metadata": {},
   "outputs": [
    {
     "name": "stdout",
     "output_type": "stream",
     "text": [
      "accuracy train:  0.42857142857142855\n",
      "accuracy test:  0.6333333333333333\n",
      "precision:  0.6333333333333333\n",
      "recall:  1.0\n",
      "f1-score:  0.7755102040816326\n"
     ]
    },
    {
     "name": "stderr",
     "output_type": "stream",
     "text": [
      "c:\\Users\\gabri\\AppData\\Local\\Programs\\Python\\Python311\\Lib\\site-packages\\sklearn\\neural_network\\_multilayer_perceptron.py:691: ConvergenceWarning: Stochastic Optimizer: Maximum iterations (100) reached and the optimization hasn't converged yet.\n",
      "  warnings.warn(\n"
     ]
    }
   ],
   "source": [
    "#Classifier for the randomly generated dataset\n",
    "from sklearn.metrics import accuracy_score, precision_score, recall_score, f1_score\n",
    "from sklearn.neural_network import MLPClassifier\n",
    "\n",
    "'''\n",
    "Number of Hidden Layers: The length of the tuple defines the number of hidden layers. For example, hidden_layer_sizes=(100, 50, 30) means there are three hidden layers with 100, 50, and 30 neurons, respectively.\n",
    "'''\n",
    "hidden_layer_sizes = (1)\n",
    "\n",
    "clf = MLPClassifier(solver='adam', alpha=1e-5,\n",
    "                    hidden_layer_sizes=hidden_layer_sizes,\n",
    "                    activation='relu', max_iter=100)\n",
    "\n",
    "clf = clf.fit(X, y)\n",
    "#predict on train set\n",
    "y_pred_train = clf.predict(X_train)\n",
    "#predict on test set\n",
    "y_pred_test = clf.predict(X_test)\n",
    "#accuracy train\n",
    "print(\"accuracy train: \", accuracy_score(y_train, y_pred_train))\n",
    "#accuracy test\n",
    "print(\"accuracy test: \", accuracy_score(y_test, y_pred_test))\n",
    "#precision\n",
    "print(\"precision: \", precision_score(y_test, y_pred_test))\n",
    "#recall\n",
    "print(\"recall: \", recall_score(y_test, y_pred_test))\n",
    "#f1-score\n",
    "print(\"f1-score: \", f1_score(y_test, y_pred_test))"
   ]
  },
  {
   "cell_type": "markdown",
   "id": "a82ff7a6",
   "metadata": {},
   "source": [
    "### With 1 hidden layer with lenght 5"
   ]
  },
  {
   "cell_type": "code",
   "execution_count": 91,
   "id": "14c84f48",
   "metadata": {},
   "outputs": [
    {
     "name": "stdout",
     "output_type": "stream",
     "text": [
      "accuracy train:  0.7285714285714285\n",
      "accuracy test:  0.7666666666666667\n",
      "precision:  0.75\n",
      "recall:  0.9473684210526315\n",
      "f1-score:  0.8372093023255814\n"
     ]
    },
    {
     "name": "stderr",
     "output_type": "stream",
     "text": [
      "c:\\Users\\gabri\\AppData\\Local\\Programs\\Python\\Python311\\Lib\\site-packages\\sklearn\\neural_network\\_multilayer_perceptron.py:691: ConvergenceWarning: Stochastic Optimizer: Maximum iterations (100) reached and the optimization hasn't converged yet.\n",
      "  warnings.warn(\n"
     ]
    }
   ],
   "source": [
    "#Classifier for the randomly generated dataset\n",
    "from sklearn.metrics import accuracy_score, precision_score, recall_score, f1_score\n",
    "from sklearn.neural_network import MLPClassifier\n",
    "\n",
    "'''\n",
    "Number of Hidden Layers: The length of the tuple defines the number of hidden layers. For example, hidden_layer_sizes=(100, 50, 30) means there are three hidden layers with 100, 50, and 30 neurons, respectively.\n",
    "'''\n",
    "hidden_layer_sizes = (5)\n",
    "\n",
    "clf = MLPClassifier(solver='adam', alpha=1e-5,\n",
    "                    hidden_layer_sizes=hidden_layer_sizes,\n",
    "                    activation='relu', max_iter=100)\n",
    "\n",
    "clf = clf.fit(X, y)\n",
    "#predict on train set\n",
    "y_pred_train = clf.predict(X_train)\n",
    "#predict on test set\n",
    "y_pred_test = clf.predict(X_test)\n",
    "#accuracy train\n",
    "print(\"accuracy train: \", accuracy_score(y_train, y_pred_train))\n",
    "#accuracy test\n",
    "print(\"accuracy test: \", accuracy_score(y_test, y_pred_test))\n",
    "#precision\n",
    "print(\"precision: \", precision_score(y_test, y_pred_test))\n",
    "#recall\n",
    "print(\"recall: \", recall_score(y_test, y_pred_test))\n",
    "#f1-score\n",
    "print(\"f1-score: \", f1_score(y_test, y_pred_test))"
   ]
  },
  {
   "cell_type": "markdown",
   "id": "b38cd74e",
   "metadata": {},
   "source": [
    "### Two hidden layer with length 5,1"
   ]
  },
  {
   "cell_type": "code",
   "execution_count": 92,
   "id": "227a89f7",
   "metadata": {},
   "outputs": [
    {
     "name": "stdout",
     "output_type": "stream",
     "text": [
      "accuracy train:  0.7571428571428571\n",
      "accuracy test:  0.7666666666666667\n",
      "precision:  0.8\n",
      "recall:  0.8421052631578947\n",
      "f1-score:  0.8205128205128205\n"
     ]
    },
    {
     "name": "stderr",
     "output_type": "stream",
     "text": [
      "c:\\Users\\gabri\\AppData\\Local\\Programs\\Python\\Python311\\Lib\\site-packages\\sklearn\\neural_network\\_multilayer_perceptron.py:691: ConvergenceWarning: Stochastic Optimizer: Maximum iterations (100) reached and the optimization hasn't converged yet.\n",
      "  warnings.warn(\n"
     ]
    }
   ],
   "source": [
    "#Classifier for the randomly generated dataset\n",
    "from sklearn.metrics import accuracy_score, precision_score, recall_score, f1_score\n",
    "from sklearn.neural_network import MLPClassifier\n",
    "\n",
    "'''\n",
    "Number of Hidden Layers: The length of the tuple defines the number of hidden layers. For example, hidden_layer_sizes=(100, 50, 30) means there are three hidden layers with 100, 50, and 30 neurons, respectively.\n",
    "'''\n",
    "hidden_layer_sizes = (5,1)\n",
    "\n",
    "clf = MLPClassifier(solver='adam', alpha=1e-5,\n",
    "                    hidden_layer_sizes=hidden_layer_sizes,\n",
    "                    activation='relu', max_iter=100)\n",
    "\n",
    "clf = clf.fit(X, y)\n",
    "#predict on train set\n",
    "y_pred_train = clf.predict(X_train)\n",
    "#predict on test set\n",
    "y_pred_test = clf.predict(X_test)\n",
    "#accuracy train\n",
    "print(\"accuracy train: \", accuracy_score(y_train, y_pred_train))\n",
    "#accuracy test\n",
    "print(\"accuracy test: \", accuracy_score(y_test, y_pred_test))\n",
    "#precision\n",
    "print(\"precision: \", precision_score(y_test, y_pred_test))\n",
    "#recall\n",
    "print(\"recall: \", recall_score(y_test, y_pred_test))\n",
    "#f1-score\n",
    "print(\"f1-score: \", f1_score(y_test, y_pred_test))"
   ]
  },
  {
   "cell_type": "markdown",
   "id": "59e42fcf",
   "metadata": {},
   "source": [
    "### Two hidden layer with lenght (5,5)"
   ]
  },
  {
   "cell_type": "code",
   "execution_count": 97,
   "id": "7666e186",
   "metadata": {},
   "outputs": [
    {
     "name": "stdout",
     "output_type": "stream",
     "text": [
      "accuracy train:  0.8142857142857143\n",
      "accuracy test:  0.8333333333333334\n",
      "precision:  0.9375\n",
      "recall:  0.7894736842105263\n",
      "f1-score:  0.8571428571428572\n"
     ]
    },
    {
     "name": "stderr",
     "output_type": "stream",
     "text": [
      "c:\\Users\\gabri\\AppData\\Local\\Programs\\Python\\Python311\\Lib\\site-packages\\sklearn\\neural_network\\_multilayer_perceptron.py:691: ConvergenceWarning: Stochastic Optimizer: Maximum iterations (100) reached and the optimization hasn't converged yet.\n",
      "  warnings.warn(\n"
     ]
    }
   ],
   "source": [
    "#Classifier for the randomly generated dataset\n",
    "from sklearn.metrics import accuracy_score, precision_score, recall_score, f1_score\n",
    "from sklearn.neural_network import MLPClassifier\n",
    "\n",
    "'''\n",
    "Number of Hidden Layers: The length of the tuple defines the number of hidden layers. For example, hidden_layer_sizes=(100, 50, 30) means there are three hidden layers with 100, 50, and 30 neurons, respectively.\n",
    "'''\n",
    "hidden_layer_sizes = (5,5)\n",
    "\n",
    "clf = MLPClassifier(solver='adam', alpha=1e-5,\n",
    "                    hidden_layer_sizes=hidden_layer_sizes,\n",
    "                    activation='relu', max_iter=100)\n",
    "\n",
    "clf = clf.fit(X, y)\n",
    "#predict on train set\n",
    "y_pred_train = clf.predict(X_train)\n",
    "#predict on test set\n",
    "y_pred_test = clf.predict(X_test)\n",
    "#accuracy train\n",
    "print(\"accuracy train: \", accuracy_score(y_train, y_pred_train))\n",
    "#accuracy test\n",
    "print(\"accuracy test: \", accuracy_score(y_test, y_pred_test))\n",
    "#precision\n",
    "print(\"precision: \", precision_score(y_test, y_pred_test))\n",
    "#recall\n",
    "print(\"recall: \", recall_score(y_test, y_pred_test))\n",
    "#f1-score\n",
    "print(\"f1-score: \", f1_score(y_test, y_pred_test))"
   ]
  },
  {
   "cell_type": "markdown",
   "id": "f0a97973",
   "metadata": {},
   "source": [
    "### 5 hidden layers with size (10,10,10,10,10)"
   ]
  },
  {
   "cell_type": "code",
   "execution_count": 99,
   "id": "91e655bb",
   "metadata": {},
   "outputs": [
    {
     "name": "stdout",
     "output_type": "stream",
     "text": [
      "accuracy train:  0.8142857142857143\n",
      "accuracy test:  0.9\n",
      "precision:  0.9444444444444444\n",
      "recall:  0.8947368421052632\n",
      "f1-score:  0.918918918918919\n"
     ]
    },
    {
     "name": "stderr",
     "output_type": "stream",
     "text": [
      "c:\\Users\\gabri\\AppData\\Local\\Programs\\Python\\Python311\\Lib\\site-packages\\sklearn\\neural_network\\_multilayer_perceptron.py:691: ConvergenceWarning: Stochastic Optimizer: Maximum iterations (100) reached and the optimization hasn't converged yet.\n",
      "  warnings.warn(\n"
     ]
    }
   ],
   "source": [
    "#Classifier for the randomly generated dataset\n",
    "from sklearn.metrics import accuracy_score, precision_score, recall_score, f1_score\n",
    "from sklearn.neural_network import MLPClassifier\n",
    "\n",
    "'''\n",
    "Number of Hidden Layers: The length of the tuple defines the number of hidden layers. For example, hidden_layer_sizes=(100, 50, 30) means there are three hidden layers with 100, 50, and 30 neurons, respectively.\n",
    "'''\n",
    "hidden_layer_sizes = (10,10,10,10,10)\n",
    "\n",
    "clf = MLPClassifier(solver='adam', alpha=1e-5,\n",
    "                    hidden_layer_sizes=hidden_layer_sizes,\n",
    "                    activation='relu', max_iter=100)\n",
    "\n",
    "clf = clf.fit(X, y)\n",
    "#predict on train set\n",
    "y_pred_train = clf.predict(X_train)\n",
    "#predict on test set\n",
    "y_pred_test = clf.predict(X_test)\n",
    "#accuracy train\n",
    "print(\"accuracy train: \", accuracy_score(y_train, y_pred_train))\n",
    "#accuracy test\n",
    "print(\"accuracy test: \", accuracy_score(y_test, y_pred_test))\n",
    "#precision\n",
    "print(\"precision: \", precision_score(y_test, y_pred_test))\n",
    "#recall\n",
    "print(\"recall: \", recall_score(y_test, y_pred_test))\n",
    "#f1-score\n",
    "print(\"f1-score: \", f1_score(y_test, y_pred_test))"
   ]
  },
  {
   "cell_type": "markdown",
   "id": "06695c92",
   "metadata": {},
   "source": [
    "### 3.5 Model selection and evaluation <a id=\"model_selection_and_evaluation\"></a>\n",
    "\n",
    "We trained the model but there is much more we need to do to guarantee that the model is effectively good and that it will generalize well to unseen data. \n",
    "\n",
    "We need to evaluate the model and select the best one. But first, how to evaluate the model ? \n",
    "\n",
    "- *Evaluation metrics* - We need to evaluate the model on unseen data. Most common metrics are \n",
    "    - *accuracy* - number of correct predictions divided by the total number of predictions.\n",
    "    \n",
    "    **ACCURACY WILL ONLY GET YOU SO FAR.**\n",
    "\n",
    "    <img title=\"a title\" alt=\"Alt text\" src=\"images/metrics.png\">\n",
    "\n",
    "    - *precision* - The precision is the ratio tp / (tp + fp) where tp is the number of true positives and fp the number of false positives. The precision is intuitively the ability of the classifier not to label as positive a sample that is negative.\n",
    "    - *recall* - The recall is the ratio tp / (tp + fn) where tp is the number of true positives and fn the number of false negatives. The recall is intuitively the ability of the classifier to find all the positive samples.\n",
    "    - *F1-score* - The F1 score can be interpreted as a harmonic mean of the precision and recall, where an F1 score reaches its best value at 1 and worst score at 0. The relative contribution of precision and recall to the F1 score are equal.\n",
    "    \n",
    "Check the [Metrics](https://scikit-learn.org/stable/modules/model_evaluation.html#classification-metrics) module for more information.\n",
    "\n",
    "*Cross-validation* - Split data in several folds and train the model on each fold. This is a way to use all the data for training and testing. [Cross-validation](https://scikit-learn.org/stable/modules/cross_validation.html)\n",
    "\n",
    "*Grid search* - Notice that we didn't select the best hyperparameters. We could actually be starting optimization in worst possible point of the training ladscape. Hyperparameter tuning can be started with some sorte of [*Grid search*](https://scikit-learn.org/stable/modules/generated/sklearn.model_selection.GridSearchCV.html#sklearn.model_selection.GridSearchCV). You can also use software like [Optuna](https://optuna.org/) to do this automatically for you."
   ]
  },
  {
   "cell_type": "code",
   "execution_count": 85,
   "id": "8335bfd7",
   "metadata": {},
   "outputs": [
    {
     "name": "stdout",
     "output_type": "stream",
     "text": [
      "accuracy train:  0.5285714285714286\n",
      "accuracy test:  0.43333333333333335\n",
      "precision:  0.0\n",
      "recall:  0.0\n",
      "f1-score:  0.0\n"
     ]
    },
    {
     "name": "stderr",
     "output_type": "stream",
     "text": [
      "c:\\Users\\gabri\\AppData\\Local\\Programs\\Python\\Python311\\Lib\\site-packages\\sklearn\\metrics\\_classification.py:1469: UndefinedMetricWarning: Precision is ill-defined and being set to 0.0 due to no predicted samples. Use `zero_division` parameter to control this behavior.\n",
      "  _warn_prf(average, modifier, msg_start, len(result))\n"
     ]
    }
   ],
   "source": [
    "#accuracy, precision, recall, f1-score in sklearn for the classifier:\n",
    "\n",
    "from sklearn.metrics import accuracy_score, precision_score, recall_score, f1_score\n",
    "\n",
    "\n",
    "#predict on train set\n",
    "y_pred_train = clf.predict(X_train)\n",
    "\n",
    "#predict on test set\n",
    "y_pred_test = clf.predict(X_test)\n",
    "\n",
    "#accuracy train\n",
    "print(\"accuracy train: \", accuracy_score(y_train, y_pred_train))\n",
    "\n",
    "#accuracy test\n",
    "print(\"accuracy test: \", accuracy_score(y_test, y_pred_test))\n",
    "\n",
    "#precision\n",
    "print(\"precision: \", precision_score(y_test, y_pred_test))\n",
    "\n",
    "#recall\n",
    "print(\"recall: \", recall_score(y_test, y_pred_test))\n",
    "\n",
    "#f1-score\n",
    "print(\"f1-score: \", f1_score(y_test, y_pred_test))\n"
   ]
  },
  {
   "cell_type": "markdown",
   "id": "27de47ca",
   "metadata": {},
   "source": [
    "## 4. Hands-On Exercise : MLP classifier for Iris dataset <a id='hands_on_exercise'></a>\n",
    "\n",
    "In this exercise, we will use the MLPClassifier to classify the Iris dataset. The Iris dataset is a classic dataset of plants with 3 classes. \n",
    "\n",
    "Load the dataset, split it into training and test sets, and train the MLPClassifier. \n",
    "\n",
    "Verify the accuracy of the model on the test set."
   ]
  },
  {
   "cell_type": "code",
   "execution_count": 143,
   "id": "85a7a3e4",
   "metadata": {},
   "outputs": [
    {
     "name": "stdout",
     "output_type": "stream",
     "text": [
      "accuracy train:  0.9428571428571428\n",
      "accuracy test:  0.9333333333333333\n",
      "precision:  0.9333333333333333\n",
      "recall:  0.9333333333333333\n",
      "f1-score:  0.9333333333333333\n"
     ]
    },
    {
     "name": "stderr",
     "output_type": "stream",
     "text": [
      "c:\\Users\\gabri\\AppData\\Local\\Programs\\Python\\Python311\\Lib\\site-packages\\sklearn\\neural_network\\_multilayer_perceptron.py:691: ConvergenceWarning: Stochastic Optimizer: Maximum iterations (100) reached and the optimization hasn't converged yet.\n",
      "  warnings.warn(\n"
     ]
    }
   ],
   "source": [
    "import pandas as pd\n",
    "\n",
    "iris = sklearn.datasets.load_iris()\n",
    "\n",
    "# Convert the iris dataset to a pandas dataframe\n",
    "df = pd.DataFrame(iris.data, columns=iris.feature_names)\n",
    "df['target'] = iris.target\n",
    "\n",
    "\n",
    "X = df[['sepal length (cm)', 'sepal width (cm)', 'petal length (cm)',\n",
    "       'petal width (cm)']]\n",
    "y = df['target']\n",
    "\n",
    "X = preprocessing.normalize(X, norm='l2')\n",
    "\n",
    "#split dataset\n",
    "X_train, X_test, y_train, y_test = train_test_split(\n",
    "   X, y, test_size=0.3)\n",
    "\n",
    "hidden_layer_sizes = (10,10,10)\n",
    "\n",
    "clf = MLPClassifier(solver='adam', alpha=1e-5,\n",
    "                    hidden_layer_sizes=hidden_layer_sizes,\n",
    "                    activation='relu', max_iter=100)\n",
    "\n",
    "clf = clf.fit(X, y)\n",
    "#predict on train set\n",
    "y_pred_train = clf.predict(X_train)\n",
    "#predict on test set\n",
    "y_pred_test = clf.predict(X_test)\n",
    "#accuracy train\n",
    "print(\"accuracy train: \", accuracy_score(y_train, y_pred_train))\n",
    "#accuracy test\n",
    "print(\"accuracy test: \", accuracy_score(y_test, y_pred_test))\n",
    "#precision\n",
    "print(\"precision: \", precision_score(y_test, y_pred_test,average='micro'))\n",
    "#recall\n",
    "print(\"recall: \", recall_score(y_test, y_pred_test,average='micro'))\n",
    "#f1-score\n",
    "print(\"f1-score: \", f1_score(y_test, y_pred_test,average='micro'))\n",
    "\n"
   ]
  },
  {
   "cell_type": "markdown",
   "id": "7b1a8301",
   "metadata": {},
   "source": [
    "## 5. Homework <a id='homework'></a>\n",
    "\n",
    "- Explore the MLPRegressor and try to fit a model to the Boston dataset.\n",
    "- Play around with the MLPClassifier for the Iris dataset. Try to improve the accuracy of the model by changing the hyperparameters.\n",
    "- Use [visualization tools](https://scikit-learn.org/stable/visualizations.html) from sklearn to visualize the decision boundary and the confusion matrix associated with the MLPClassifier."
   ]
  },
  {
   "cell_type": "markdown",
   "id": "c95f29b4",
   "metadata": {},
   "source": [
    "## 6. References <a id='references'></a>\n",
    "\n",
    "- [Probabilistic Machine Learning: An Introduction, Kevin P. Murphy](https://probml.github.io/pml-book/book1.html)\n",
    "- [Deep Learning: Foundations and concepts, Christopher M. Bishop](https://www.microsoft.com/en-us/research/people/cmbishop/#!prml-book)\n",
    "- [Scikit-learn](https://scikit-learn.org/stable/index.html)"
   ]
  },
  {
   "cell_type": "markdown",
   "id": "a0eb49b8",
   "metadata": {},
   "source": []
  }
 ],
 "metadata": {
  "kernelspec": {
   "display_name": "quantum_DS",
   "language": "python",
   "name": "python3"
  },
  "language_info": {
   "codemirror_mode": {
    "name": "ipython",
    "version": 3
   },
   "file_extension": ".py",
   "mimetype": "text/x-python",
   "name": "python",
   "nbconvert_exporter": "python",
   "pygments_lexer": "ipython3",
   "version": "3.11.5"
  }
 },
 "nbformat": 4,
 "nbformat_minor": 5
}
