{
 "cells": [
  {
   "attachments": {},
   "cell_type": "markdown",
   "metadata": {},
   "source": [
    "##### Quantum Data Science 2023/2024\n",
    "### Lecture 3 - Distance between quantum states and entanglement"
   ]
  },
  {
   "attachments": {},
   "cell_type": "markdown",
   "metadata": {},
   "source": [
    "<!-- no toc -->\n",
    "### Contents \n",
    "\n",
    "1. [Important functions and libraries](#important)\n",
    "2. [SWAP Test](#swaptest)\n",
    "4. [EXERCISE 1 - Inversion test](#inversiontest)\n",
    "5. [EXERCISE 2 - Hadamard test](#hadamardtest)\n",
    "5. [EXERCISE 3 - Trace distance](#tracedistance)\n",
    "6. [EXERCISE 4 - Meyer-Wallach measure](#meyerwallach)"
   ]
  },
  {
   "attachments": {},
   "cell_type": "markdown",
   "metadata": {},
   "source": [
    "#### 1. Libraries and functions <a id=\"important\"></a>"
   ]
  },
  {
   "cell_type": "code",
   "execution_count": 1,
   "metadata": {},
   "outputs": [],
   "source": [
    "import matplotlib.pyplot as plt\n",
    "import numpy as np"
   ]
  },
  {
   "cell_type": "markdown",
   "metadata": {},
   "source": [
    "##### Function for executing a quantum circuit "
   ]
  },
  {
   "cell_type": "code",
   "execution_count": 2,
   "metadata": {},
   "outputs": [],
   "source": [
    "from qiskit import *\n",
    "from qiskit.primitives import Sampler,Estimator\n",
    "import numpy as np\n",
    "\n",
    "def execute_circuit(qc, shots=1024, seed=None, binary=False , primitive=\"sampler\", observable=None):\n",
    "    \n",
    "    if primitive == \"estimator\":\n",
    "        options = {\"shots\": shots, \"seed\": seed}\n",
    "        estimator = Estimator(options=options)\n",
    "    \n",
    "        job = estimator.run(qc, observable)\n",
    "        result = job.result()  \n",
    "        \n",
    "        return result\n",
    "    \n",
    "    elif primitive == \"sampler\":\n",
    "        options = {\"shots\": shots, \"seed\": seed}\n",
    "        sampler = Sampler(options=options)\n",
    "    \n",
    "        job = sampler.run(qc)\n",
    "        result = job.result()  \n",
    "        \n",
    "        probability_dictionary = result.quasi_dists[0]\n",
    "\n",
    "        if binary:\n",
    "            return probability_dictionary.binary_probabilities()\n",
    "        else:\n",
    "            return probability_dictionary\n",
    "    "
   ]
  },
  {
   "attachments": {},
   "cell_type": "markdown",
   "metadata": {},
   "source": [
    "#### 2. SWAP Test <a id=\"swaptest\"></a>\n",
    "\n",
    "<p align=\"center\">\n",
    "  <img width=\"500\" height=\"250\" src=\"images/swaptestt.png\">\n",
    "</p>\n",
    "\n",
    "The swap test can be used to estimate the overlap between arbitrary pure states $|\\psi\\rangle$ and $|\\phi\\rangle$. The probability of measuring the ancilla in state $|0\\rangle$ is given by: \n",
    "$$ P(0) = \\frac{1}{2} + \\frac{1}{2} |\\langle \\psi | \\phi \\rangle |^2$$ \n",
    "\n",
    "Thus, the overlap (or fidelity) between the states is given by: \n",
    "\n",
    "$$|\\langle \\psi | \\phi \\rangle |^2 = 2P(0) - 1$$\n"
   ]
  },
  {
   "attachments": {},
   "cell_type": "markdown",
   "metadata": {},
   "source": [
    "### <span style=\"color: red;\">EXERCISE 1</span> - Inversion test <a id=\"inversiontest\"></a>"
   ]
  },
  {
   "attachments": {},
   "cell_type": "markdown",
   "metadata": {},
   "source": [
    "<p align=\"center\">\n",
    "  <img width=\"450\" height=\"200\" src=\"images/inversion_test.png\"> \n",
    "</p>"
   ]
  },
  {
   "attachments": {},
   "cell_type": "markdown",
   "metadata": {},
   "source": [
    "The inversion test can also be used to estimate the overlap between two pure quantum states with $n$ qubits by preparing the unitary $U_{\\psi}$ and the transpose conjugated unitary $U_{\\phi}^{\\dagger}$ in the same set of $n$ qubits. The overlap is the probability of measuring the all-zero state. \n",
    "\n",
    "Prove analytically that the overlap $|\\langle \\phi | \\psi \\rangle|^2$ is given by the probability of the all-zero state. \n",
    "\n",
    "Implement the inversion test for arbitrary n qubit states."
   ]
  },
  {
   "cell_type": "code",
   "execution_count": 15,
   "metadata": {},
   "outputs": [],
   "source": [
    "def inversion_test(psi, phi, shots=1024):\n",
    "    overlap = 0\n",
    "\n",
    "    n = psi.num_qubits\n",
    "    qr = QuantumRegister(n)\n",
    "    qc = QuantumCircuit(qr)\n",
    "\n",
    "    qc.append(psi,qr)\n",
    "    qc.append(phi.inverse(),qr)\n",
    "\n",
    "    qc.measure_all()\n",
    "\n",
    "    prob_dict = execute_circuit(qc)\n",
    "\n",
    "    overlap = prob_dict.get(0,0)\n",
    "    \n",
    "    return overlap"
   ]
  },
  {
   "attachments": {},
   "cell_type": "markdown",
   "metadata": {},
   "source": [
    "Compute the overlap between the states $|GHZ\\rangle = \\frac{1}{\\sqrt{2}}\\biggl( |000\\rangle + |111\\rangle \\biggr)$ and the W state $|W\\rangle = \\frac{1}{\\sqrt{3}}\\biggl( |001\\rangle + |010\\rangle + |100\\rangle \\biggr)$.\n",
    "\n",
    "<p align=\"center\">\n",
    "  <img width=\"450\" height=\"200\" src=\"images/wstate.png\"> \n",
    "</p>"
   ]
  },
  {
   "cell_type": "code",
   "execution_count": 16,
   "metadata": {},
   "outputs": [
    {
     "data": {
      "text/plain": [
       "0"
      ]
     },
     "execution_count": 16,
     "metadata": {},
     "output_type": "execute_result"
    }
   ],
   "source": [
    "### YOUR CODE HERE ###\n",
    "\n",
    "qr_psi = QuantumRegister(3)\n",
    "psi = QuantumCircuit(qr_psi)\n",
    "\n",
    "psi.h(qr_psi[0])\n",
    "psi.cx(qr_psi[0],qr_psi[1])\n",
    "psi.cx(qr_psi[0],qr_psi[2])\n",
    "\n",
    "\n",
    "qr_phi = QuantumRegister(3)\n",
    "phi = QuantumCircuit(qr_phi)\n",
    "\n",
    "phi.ry(2*np.arccos(1/np.sqrt(3)),qr_phi[0])\n",
    "\n",
    "phi.ch(qr_phi[0],qr_phi[1])\n",
    "phi.cx(qr_phi[1],qr_phi[2])\n",
    "phi.cx(qr_phi[0],qr_phi[1])\n",
    "phi.x(qr_phi[0])\n",
    "\n",
    "inversion_test(psi,phi)\n"
   ]
  },
  {
   "attachments": {},
   "cell_type": "markdown",
   "metadata": {},
   "source": [
    "### <span style=\"color: red;\">EXERCISE 2</span> - Hadamard test <a id=\"hadamardtest\"></a>"
   ]
  },
  {
   "attachments": {},
   "cell_type": "markdown",
   "metadata": {},
   "source": [
    "<p align=\"center\">\n",
    "  <img width=\"800\" height=\"250\" src=\"images/hadamardtest.png\"> \n",
    "</p>"
   ]
  },
  {
   "attachments": {},
   "cell_type": "markdown",
   "metadata": {},
   "source": [
    "The Hadamard test can be used to estimate the real part of the inner product between states $|\\psi\\rangle$ and $|\\phi\\rangle$. We use the standard swap test but prepare the states conditionally on the state of the ancilla. Measuring the probability of the ancilla being in the state 0, reveals the real part of the inner product. If we prepare the ancilla in the state $|K\\rangle = \\frac{1}{\\sqrt{2}} (|0\\rangle - i|1\\rangle)$ and apply the same process, we get the imaginary part of the inner product.\n",
    "\n",
    "Implement the hadamard test. "
   ]
  },
  {
   "cell_type": "markdown",
   "metadata": {},
   "source": [
    "we can turn any quantum circuit psi = QuantumCircuit() to a controlled gate\n",
    "\n",
    "```python\n",
    "psi = QuantumCircuit()\n",
    "psi = psi.to_gate().control(1,ctrl_state='0')\n",
    "```\n",
    "where we have 1 control bit in the state 0\n",
    "\n",
    "\n"
   ]
  },
  {
   "cell_type": "code",
   "execution_count": 53,
   "metadata": {},
   "outputs": [],
   "source": [
    "def hadamard_test(psi, phi, imaginary=False):\n",
    "\n",
    "    n = psi.num_qubits\n",
    "    qr = QuantumRegister(n+1)\n",
    "    cr = ClassicalRegister(1)\n",
    "    qc = QuantumCircuit(qr,cr)\n",
    "\n",
    "    psi = psi.to_gate().control(1,ctrl_state='1')\n",
    "    phi = phi.to_gate().control(1,ctrl_state='0')\n",
    "\n",
    "    if not imaginary:\n",
    "        qc.h(qr[0])\n",
    "    else:\n",
    "        qc.x(qr[0])\n",
    "        qc.h(qr[0])\n",
    "        qc.s(qr[0])\n",
    "\n",
    "    \n",
    "    qc.append(psi,qr)\n",
    "    qc.append(phi,qr)\n",
    "\n",
    "    qc.h(qr[0])\n",
    "\n",
    "    qc.measure(qr[0],cr)\n",
    "\n",
    "    prob_dict = execute_circuit(qc)\n",
    "\n",
    "    if imaginary:\n",
    "        return 1 - 2 * prob_dict.get(0,0)\n",
    "    else:\n",
    "        return 2 * prob_dict.get(0,0) - 1\n",
    "\n",
    "\n"
   ]
  },
  {
   "attachments": {},
   "cell_type": "markdown",
   "metadata": {},
   "source": [
    "Test the hadamard test for the GHZ states as in the exercise 4"
   ]
  },
  {
   "cell_type": "code",
   "execution_count": 57,
   "metadata": {},
   "outputs": [
    {
     "data": {
      "text/plain": [
       "0.001953125"
      ]
     },
     "execution_count": 57,
     "metadata": {},
     "output_type": "execute_result"
    }
   ],
   "source": [
    "### YOUR CODE HERE ###\n",
    "\n",
    "qr_psi = QuantumRegister(3)\n",
    "psi = QuantumCircuit(qr_psi)\n",
    "\n",
    "psi.h(qr_psi[0])\n",
    "psi.cx(qr_psi[0],qr_psi[1])\n",
    "psi.cx(qr_psi[0],qr_psi[2])\n",
    "\n",
    "\n",
    "qr_phi = QuantumRegister(3)\n",
    "phi = QuantumCircuit(qr_phi)\n",
    "\n",
    "phi.ry(2*np.arccos(1/np.sqrt(3)),qr_phi[0])\n",
    "\n",
    "phi.ch(qr_phi[0],qr_phi[1])\n",
    "phi.cx(qr_phi[1],qr_phi[2])\n",
    "phi.cx(qr_phi[0],qr_phi[1])\n",
    "phi.x(qr_phi[0])\n",
    "\n",
    "hadamard_test(psi,phi,imaginary=False)\n"
   ]
  },
  {
   "attachments": {},
   "cell_type": "markdown",
   "metadata": {},
   "source": [
    "### <span style=\"color: red;\">EXERCISE 3</span> - Trace distance <a id=\"tracedistance\"></a>\n",
    "\n",
    "The fidelity between quantum states $|\\langle \\psi | \\phi \\rangle|^2$ only works for the case when both states are pure states. When we have generalized mixed states we need other distance measures. One such measure is the trace distance: \n",
    "\n",
    "$$T(\\rho, \\sigma) = \\frac{1}{2} Tr| \\rho - \\sigma | = \\frac{1}{2} \\sum_{i}| \\lambda_i |$$\n",
    "\n",
    "where $\\rho$ and $\\sigma$ are the density matrices associated with the quantum states and $|\\lambda_i|$ is the absolute value of the eigenvalue $i$.\n",
    "\n"
   ]
  },
  {
   "cell_type": "code",
   "execution_count": 60,
   "metadata": {},
   "outputs": [
    {
     "name": "stdout",
     "output_type": "stream",
     "text": [
      "DensityMatrix([[1.+0.j, 0.+0.j],\n",
      "               [0.+0.j, 0.+0.j]],\n",
      "              dims=(2,))\n"
     ]
    }
   ],
   "source": [
    "from qiskit.quantum_info import DensityMatrix\n",
    "DensityMatrix([1,0])"
   ]
  },
  {
   "cell_type": "code",
   "execution_count": null,
   "metadata": {},
   "outputs": [],
   "source": [
    "def trace_distance(psi, phi):\n",
    "\n",
    "    ### YOUR CODE HERE ###\n",
    "    \n",
    "    pass"
   ]
  },
  {
   "attachments": {},
   "cell_type": "markdown",
   "metadata": {},
   "source": [
    "Test for arbitrary quantum states "
   ]
  },
  {
   "cell_type": "code",
   "execution_count": 1,
   "metadata": {},
   "outputs": [],
   "source": [
    "### YOUR CODE HERE ###"
   ]
  },
  {
   "attachments": {},
   "cell_type": "markdown",
   "metadata": {},
   "source": [
    "### <span style=\"color: red;\">EXERCISE 4</span> - Meyer-Wallach measure <a id=\"meyerwallach\"></a>"
   ]
  },
  {
   "attachments": {},
   "cell_type": "markdown",
   "metadata": {},
   "source": [
    "The Meyer-wallach measure is a technique developed for quantifying the entangling capability of an arbitrary quantum circuit. It can be obtained as:\n",
    "\n",
    "$$ Q = 2 - \\frac{2}{n} \\sum_{k=0}^{n-1} Tr(\\rho_k^2) $$ \n",
    "\n",
    "where $\\rho_k$ is the state of the $k^\\text{th}$ qubit after tracing out the rest of the system. "
   ]
  },
  {
   "cell_type": "code",
   "execution_count": 61,
   "metadata": {},
   "outputs": [
    {
     "name": "stdout",
     "output_type": "stream",
     "text": [
      "DensityMatrix([[1.+0.j, 0.+0.j],\n",
      "               [0.+0.j, 0.+0.j]],\n",
      "              dims=(2,))\n"
     ]
    }
   ],
   "source": [
    "from qiskit.quantum_info import partial_trace\n",
    "#partial_trace(state_vector, list_of_qubits_to_be_traced)\n",
    "partial_trace([1,0,0,0], [0])"
   ]
  },
  {
   "cell_type": "code",
   "execution_count": 72,
   "metadata": {},
   "outputs": [],
   "source": [
    "def meyer_wallach(qc, n_qubits):\n",
    "\n",
    "    result = 2\n",
    "    \n",
    "    for k in range(n_qubits):\n",
    "        result -= 2/n_qubits * partial_trace(DensityMatrix(qc),[k])\n",
    "\n",
    "    return result"
   ]
  },
  {
   "attachments": {},
   "cell_type": "markdown",
   "metadata": {},
   "source": [
    "Measure the entanglement of the W state and the GHZ state of three qubits"
   ]
  },
  {
   "cell_type": "code",
   "execution_count": 73,
   "metadata": {},
   "outputs": [
    {
     "ename": "TypeError",
     "evalue": "unsupported operand type(s) for -=: 'int' and 'DensityMatrix'",
     "output_type": "error",
     "traceback": [
      "\u001b[1;31m---------------------------------------------------------------------------\u001b[0m",
      "\u001b[1;31mTypeError\u001b[0m                                 Traceback (most recent call last)",
      "Cell \u001b[1;32mIn[73], line 20\u001b[0m\n\u001b[0;32m     18\u001b[0m phi\u001b[38;5;241m.\u001b[39mcx(qr_phi[\u001b[38;5;241m0\u001b[39m],qr_phi[\u001b[38;5;241m1\u001b[39m])\n\u001b[0;32m     19\u001b[0m phi\u001b[38;5;241m.\u001b[39mx(qr_phi[\u001b[38;5;241m0\u001b[39m])\n\u001b[1;32m---> 20\u001b[0m \u001b[43mmeyer_wallach\u001b[49m\u001b[43m(\u001b[49m\u001b[43mphi\u001b[49m\u001b[43m,\u001b[49m\u001b[38;5;241;43m3\u001b[39;49m\u001b[43m)\u001b[49m\n",
      "Cell \u001b[1;32mIn[72], line 6\u001b[0m, in \u001b[0;36mmeyer_wallach\u001b[1;34m(qc, n_qubits)\u001b[0m\n\u001b[0;32m      3\u001b[0m result \u001b[38;5;241m=\u001b[39m \u001b[38;5;241m2\u001b[39m\n\u001b[0;32m      5\u001b[0m \u001b[38;5;28;01mfor\u001b[39;00m k \u001b[38;5;129;01min\u001b[39;00m \u001b[38;5;28mrange\u001b[39m(n_qubits):\n\u001b[1;32m----> 6\u001b[0m     \u001b[43mresult\u001b[49m\u001b[43m \u001b[49m\u001b[38;5;241;43m-\u001b[39;49m\u001b[38;5;241;43m=\u001b[39;49m\u001b[43m \u001b[49m\u001b[38;5;241;43m2\u001b[39;49m\u001b[38;5;241;43m/\u001b[39;49m\u001b[43mn_qubits\u001b[49m\u001b[43m \u001b[49m\u001b[38;5;241;43m*\u001b[39;49m\u001b[43m \u001b[49m\u001b[43mpartial_trace\u001b[49m\u001b[43m(\u001b[49m\u001b[43mDensityMatrix\u001b[49m\u001b[43m(\u001b[49m\u001b[43mqc\u001b[49m\u001b[43m)\u001b[49m\u001b[43m,\u001b[49m\u001b[43m[\u001b[49m\u001b[43mk\u001b[49m\u001b[43m]\u001b[49m\u001b[43m)\u001b[49m\n\u001b[0;32m      8\u001b[0m \u001b[38;5;28;01mreturn\u001b[39;00m result\n",
      "\u001b[1;31mTypeError\u001b[0m: unsupported operand type(s) for -=: 'int' and 'DensityMatrix'"
     ]
    }
   ],
   "source": [
    "### YOUR CODE HERE ###\n",
    "\n",
    "qr_psi = QuantumRegister(3)\n",
    "psi = QuantumCircuit(qr_psi)\n",
    "\n",
    "psi.h(qr_psi[0])\n",
    "psi.cx(qr_psi[0],qr_psi[1])\n",
    "psi.cx(qr_psi[0],qr_psi[2])\n",
    "\n",
    "\n",
    "qr_phi = QuantumRegister(3)\n",
    "phi = QuantumCircuit(qr_phi)\n",
    "\n",
    "phi.ry(2*np.arccos(1/np.sqrt(3)),qr_phi[0])\n",
    "\n",
    "phi.ch(qr_phi[0],qr_phi[1])\n",
    "phi.cx(qr_phi[1],qr_phi[2])\n",
    "phi.cx(qr_phi[0],qr_phi[1])\n",
    "phi.x(qr_phi[0])\n",
    "meyer_wallach(phi,3)\n"
   ]
  },
  {
   "cell_type": "code",
   "execution_count": null,
   "metadata": {},
   "outputs": [],
   "source": []
  }
 ],
 "metadata": {
  "interpreter": {
   "hash": "62314c999a2395b70c6666201aadb026cfae52075e045b8f587202e06e575832"
  },
  "kernelspec": {
   "display_name": "Python 3.10.1 64-bit ('quantum_DS': conda)",
   "language": "python",
   "name": "python3"
  },
  "language_info": {
   "codemirror_mode": {
    "name": "ipython",
    "version": 3
   },
   "file_extension": ".py",
   "mimetype": "text/x-python",
   "name": "python",
   "nbconvert_exporter": "python",
   "pygments_lexer": "ipython3",
   "version": "3.11.5"
  },
  "orig_nbformat": 4
 },
 "nbformat": 4,
 "nbformat_minor": 2
}
